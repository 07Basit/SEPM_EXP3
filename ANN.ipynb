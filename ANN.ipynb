{
  "nbformat": 4,
  "nbformat_minor": 0,
  "metadata": {
    "colab": {
      "provenance": []
    },
    "kernelspec": {
      "name": "python3",
      "display_name": "Python 3"
    },
    "language_info": {
      "name": "python"
    }
  },
  "cells": [
    {
      "cell_type": "markdown",
      "source": [
        "# BINARY CLASSIFICATION"
      ],
      "metadata": {
        "id": "S-yKxXTRsUvs"
      }
    },
    {
      "cell_type": "code",
      "execution_count": 15,
      "metadata": {
        "id": "oPad21hYsSZV"
      },
      "outputs": [],
      "source": [
        "import pandas as pd\n",
        "import numpy as np"
      ]
    },
    {
      "cell_type": "code",
      "source": [
        "diabetes = pd.read_csv('https://github.com/YBI-Foundation/Dataset/raw/main/Diabetes.csv')"
      ],
      "metadata": {
        "id": "dhWIZpKTsc3T"
      },
      "execution_count": 16,
      "outputs": []
    },
    {
      "cell_type": "code",
      "source": [
        "diabetes.head()"
      ],
      "metadata": {
        "colab": {
          "base_uri": "https://localhost:8080/",
          "height": 204
        },
        "id": "yVQrkr5mssr_",
        "outputId": "bc8ee636-17be-4b3f-d957-2e78cb0fdd71"
      },
      "execution_count": 17,
      "outputs": [
        {
          "output_type": "execute_result",
          "data": {
            "text/plain": [
              "   pregnancies  glucose  diastolic  triceps  insulin   bmi    dpf  age  \\\n",
              "0            6      148         72       35        0  33.6  0.627   50   \n",
              "1            1       85         66       29        0  26.6  0.351   31   \n",
              "2            8      183         64        0        0  23.3  0.672   32   \n",
              "3            1       89         66       23       94  28.1  0.167   21   \n",
              "4            0      137         40       35      168  43.1  2.288   33   \n",
              "\n",
              "   diabetes  \n",
              "0         1  \n",
              "1         0  \n",
              "2         1  \n",
              "3         0  \n",
              "4         1  "
            ],
            "text/html": [
              "\n",
              "  <div id=\"df-8f7ed7e2-5270-4d4e-bd89-d4e44de5b65b\">\n",
              "    <div class=\"colab-df-container\">\n",
              "      <div>\n",
              "<style scoped>\n",
              "    .dataframe tbody tr th:only-of-type {\n",
              "        vertical-align: middle;\n",
              "    }\n",
              "\n",
              "    .dataframe tbody tr th {\n",
              "        vertical-align: top;\n",
              "    }\n",
              "\n",
              "    .dataframe thead th {\n",
              "        text-align: right;\n",
              "    }\n",
              "</style>\n",
              "<table border=\"1\" class=\"dataframe\">\n",
              "  <thead>\n",
              "    <tr style=\"text-align: right;\">\n",
              "      <th></th>\n",
              "      <th>pregnancies</th>\n",
              "      <th>glucose</th>\n",
              "      <th>diastolic</th>\n",
              "      <th>triceps</th>\n",
              "      <th>insulin</th>\n",
              "      <th>bmi</th>\n",
              "      <th>dpf</th>\n",
              "      <th>age</th>\n",
              "      <th>diabetes</th>\n",
              "    </tr>\n",
              "  </thead>\n",
              "  <tbody>\n",
              "    <tr>\n",
              "      <th>0</th>\n",
              "      <td>6</td>\n",
              "      <td>148</td>\n",
              "      <td>72</td>\n",
              "      <td>35</td>\n",
              "      <td>0</td>\n",
              "      <td>33.6</td>\n",
              "      <td>0.627</td>\n",
              "      <td>50</td>\n",
              "      <td>1</td>\n",
              "    </tr>\n",
              "    <tr>\n",
              "      <th>1</th>\n",
              "      <td>1</td>\n",
              "      <td>85</td>\n",
              "      <td>66</td>\n",
              "      <td>29</td>\n",
              "      <td>0</td>\n",
              "      <td>26.6</td>\n",
              "      <td>0.351</td>\n",
              "      <td>31</td>\n",
              "      <td>0</td>\n",
              "    </tr>\n",
              "    <tr>\n",
              "      <th>2</th>\n",
              "      <td>8</td>\n",
              "      <td>183</td>\n",
              "      <td>64</td>\n",
              "      <td>0</td>\n",
              "      <td>0</td>\n",
              "      <td>23.3</td>\n",
              "      <td>0.672</td>\n",
              "      <td>32</td>\n",
              "      <td>1</td>\n",
              "    </tr>\n",
              "    <tr>\n",
              "      <th>3</th>\n",
              "      <td>1</td>\n",
              "      <td>89</td>\n",
              "      <td>66</td>\n",
              "      <td>23</td>\n",
              "      <td>94</td>\n",
              "      <td>28.1</td>\n",
              "      <td>0.167</td>\n",
              "      <td>21</td>\n",
              "      <td>0</td>\n",
              "    </tr>\n",
              "    <tr>\n",
              "      <th>4</th>\n",
              "      <td>0</td>\n",
              "      <td>137</td>\n",
              "      <td>40</td>\n",
              "      <td>35</td>\n",
              "      <td>168</td>\n",
              "      <td>43.1</td>\n",
              "      <td>2.288</td>\n",
              "      <td>33</td>\n",
              "      <td>1</td>\n",
              "    </tr>\n",
              "  </tbody>\n",
              "</table>\n",
              "</div>\n",
              "      <button class=\"colab-df-convert\" onclick=\"convertToInteractive('df-8f7ed7e2-5270-4d4e-bd89-d4e44de5b65b')\"\n",
              "              title=\"Convert this dataframe to an interactive table.\"\n",
              "              style=\"display:none;\">\n",
              "        \n",
              "  <svg xmlns=\"http://www.w3.org/2000/svg\" height=\"24px\"viewBox=\"0 0 24 24\"\n",
              "       width=\"24px\">\n",
              "    <path d=\"M0 0h24v24H0V0z\" fill=\"none\"/>\n",
              "    <path d=\"M18.56 5.44l.94 2.06.94-2.06 2.06-.94-2.06-.94-.94-2.06-.94 2.06-2.06.94zm-11 1L8.5 8.5l.94-2.06 2.06-.94-2.06-.94L8.5 2.5l-.94 2.06-2.06.94zm10 10l.94 2.06.94-2.06 2.06-.94-2.06-.94-.94-2.06-.94 2.06-2.06.94z\"/><path d=\"M17.41 7.96l-1.37-1.37c-.4-.4-.92-.59-1.43-.59-.52 0-1.04.2-1.43.59L10.3 9.45l-7.72 7.72c-.78.78-.78 2.05 0 2.83L4 21.41c.39.39.9.59 1.41.59.51 0 1.02-.2 1.41-.59l7.78-7.78 2.81-2.81c.8-.78.8-2.07 0-2.86zM5.41 20L4 18.59l7.72-7.72 1.47 1.35L5.41 20z\"/>\n",
              "  </svg>\n",
              "      </button>\n",
              "      \n",
              "  <style>\n",
              "    .colab-df-container {\n",
              "      display:flex;\n",
              "      flex-wrap:wrap;\n",
              "      gap: 12px;\n",
              "    }\n",
              "\n",
              "    .colab-df-convert {\n",
              "      background-color: #E8F0FE;\n",
              "      border: none;\n",
              "      border-radius: 50%;\n",
              "      cursor: pointer;\n",
              "      display: none;\n",
              "      fill: #1967D2;\n",
              "      height: 32px;\n",
              "      padding: 0 0 0 0;\n",
              "      width: 32px;\n",
              "    }\n",
              "\n",
              "    .colab-df-convert:hover {\n",
              "      background-color: #E2EBFA;\n",
              "      box-shadow: 0px 1px 2px rgba(60, 64, 67, 0.3), 0px 1px 3px 1px rgba(60, 64, 67, 0.15);\n",
              "      fill: #174EA6;\n",
              "    }\n",
              "\n",
              "    [theme=dark] .colab-df-convert {\n",
              "      background-color: #3B4455;\n",
              "      fill: #D2E3FC;\n",
              "    }\n",
              "\n",
              "    [theme=dark] .colab-df-convert:hover {\n",
              "      background-color: #434B5C;\n",
              "      box-shadow: 0px 1px 3px 1px rgba(0, 0, 0, 0.15);\n",
              "      filter: drop-shadow(0px 1px 2px rgba(0, 0, 0, 0.3));\n",
              "      fill: #FFFFFF;\n",
              "    }\n",
              "  </style>\n",
              "\n",
              "      <script>\n",
              "        const buttonEl =\n",
              "          document.querySelector('#df-8f7ed7e2-5270-4d4e-bd89-d4e44de5b65b button.colab-df-convert');\n",
              "        buttonEl.style.display =\n",
              "          google.colab.kernel.accessAllowed ? 'block' : 'none';\n",
              "\n",
              "        async function convertToInteractive(key) {\n",
              "          const element = document.querySelector('#df-8f7ed7e2-5270-4d4e-bd89-d4e44de5b65b');\n",
              "          const dataTable =\n",
              "            await google.colab.kernel.invokeFunction('convertToInteractive',\n",
              "                                                     [key], {});\n",
              "          if (!dataTable) return;\n",
              "\n",
              "          const docLinkHtml = 'Like what you see? Visit the ' +\n",
              "            '<a target=\"_blank\" href=https://colab.research.google.com/notebooks/data_table.ipynb>data table notebook</a>'\n",
              "            + ' to learn more about interactive tables.';\n",
              "          element.innerHTML = '';\n",
              "          dataTable['output_type'] = 'display_data';\n",
              "          await google.colab.output.renderOutput(dataTable, element);\n",
              "          const docLink = document.createElement('div');\n",
              "          docLink.innerHTML = docLinkHtml;\n",
              "          element.appendChild(docLink);\n",
              "        }\n",
              "      </script>\n",
              "    </div>\n",
              "  </div>\n",
              "  "
            ]
          },
          "metadata": {},
          "execution_count": 17
        }
      ]
    },
    {
      "cell_type": "code",
      "source": [
        "y = diabetes['diabetes']\n",
        "X = diabetes.drop(['diabetes'], axis=1)"
      ],
      "metadata": {
        "id": "LMUQh1-asw6y"
      },
      "execution_count": 18,
      "outputs": []
    },
    {
      "cell_type": "code",
      "source": [
        "X.shape"
      ],
      "metadata": {
        "colab": {
          "base_uri": "https://localhost:8080/"
        },
        "id": "mm2qqNCSs4rW",
        "outputId": "35e3f6e4-3a09-4238-d21c-31d679ba4140"
      },
      "execution_count": 19,
      "outputs": [
        {
          "output_type": "execute_result",
          "data": {
            "text/plain": [
              "(768, 8)"
            ]
          },
          "metadata": {},
          "execution_count": 19
        }
      ]
    },
    {
      "cell_type": "code",
      "source": [
        "from sklearn.model_selection import train_test_split\n",
        "X_train, X_test, y_train, y_test = train_test_split(X,y, random_state=2529)"
      ],
      "metadata": {
        "id": "-yoqaU6Ms-1u"
      },
      "execution_count": 20,
      "outputs": []
    },
    {
      "cell_type": "code",
      "source": [
        "from sklearn.preprocessing import StandardScaler\n",
        "ss = StandardScaler()"
      ],
      "metadata": {
        "id": "ARGiFWXmtOwD"
      },
      "execution_count": 21,
      "outputs": []
    },
    {
      "cell_type": "code",
      "source": [
        "X_train = ss.fit_transform(X_train)\n",
        "X_test = ss.transform(X_test)"
      ],
      "metadata": {
        "id": "CutE5Ry3tX1z"
      },
      "execution_count": 22,
      "outputs": []
    },
    {
      "cell_type": "code",
      "source": [
        "from keras.models import Sequential\n",
        "from keras.layers import Dense\n",
        "model = Sequential()"
      ],
      "metadata": {
        "id": "Myw8EfPMthkS"
      },
      "execution_count": 23,
      "outputs": []
    },
    {
      "cell_type": "code",
      "source": [
        "model.add(Dense(9,activation= 'relu'))    # shape 8+1 = 9"
      ],
      "metadata": {
        "id": "nMBbXWh0tucH"
      },
      "execution_count": 24,
      "outputs": []
    },
    {
      "cell_type": "code",
      "source": [
        "model.add(Dense(16,activation= 'relu'))   #2x shape"
      ],
      "metadata": {
        "id": "1ZkPiDfvt3cD"
      },
      "execution_count": 25,
      "outputs": []
    },
    {
      "cell_type": "code",
      "source": [
        "model.add(Dense(16,activation= 'relu'))   #2x shape"
      ],
      "metadata": {
        "id": "cpbetctrt3gp"
      },
      "execution_count": 26,
      "outputs": []
    },
    {
      "cell_type": "code",
      "source": [
        "model.add(Dense(8,activation= 'relu'))    #shape"
      ],
      "metadata": {
        "id": "wEIuwXgvt3lT"
      },
      "execution_count": 27,
      "outputs": []
    },
    {
      "cell_type": "code",
      "source": [
        "model.add(Dense(1,activation= 'sigmoid'))   #1 output"
      ],
      "metadata": {
        "id": "HIjH4ou9t37z"
      },
      "execution_count": 30,
      "outputs": []
    },
    {
      "cell_type": "code",
      "source": [
        "model.compile(optimizer='adam', loss='binary_crossentropy', metrics=['accuracy'])"
      ],
      "metadata": {
        "id": "CvOCheAOt4AG"
      },
      "execution_count": 31,
      "outputs": []
    },
    {
      "cell_type": "code",
      "source": [
        "model.fit(X_train, y_train, batch_size=32, epochs=20, verbose=1)"
      ],
      "metadata": {
        "colab": {
          "base_uri": "https://localhost:8080/"
        },
        "id": "ttpasehvvDM9",
        "outputId": "8f7022d7-4c78-487b-d8f4-ca1c55ae49eb"
      },
      "execution_count": 32,
      "outputs": [
        {
          "output_type": "stream",
          "name": "stdout",
          "text": [
            "Epoch 1/20\n",
            "18/18 [==============================] - 2s 3ms/step - loss: 0.7018 - accuracy: 0.3889\n",
            "Epoch 2/20\n",
            "18/18 [==============================] - 0s 3ms/step - loss: 0.6798 - accuracy: 0.6597\n",
            "Epoch 3/20\n",
            "18/18 [==============================] - 0s 2ms/step - loss: 0.6630 - accuracy: 0.7205\n",
            "Epoch 4/20\n",
            "18/18 [==============================] - 0s 2ms/step - loss: 0.6435 - accuracy: 0.7257\n",
            "Epoch 5/20\n",
            "18/18 [==============================] - 0s 3ms/step - loss: 0.6184 - accuracy: 0.7101\n",
            "Epoch 6/20\n",
            "18/18 [==============================] - 0s 2ms/step - loss: 0.5878 - accuracy: 0.7222\n",
            "Epoch 7/20\n",
            "18/18 [==============================] - 0s 3ms/step - loss: 0.5570 - accuracy: 0.7378\n",
            "Epoch 8/20\n",
            "18/18 [==============================] - 0s 3ms/step - loss: 0.5316 - accuracy: 0.7483\n",
            "Epoch 9/20\n",
            "18/18 [==============================] - 0s 3ms/step - loss: 0.5134 - accuracy: 0.7483\n",
            "Epoch 10/20\n",
            "18/18 [==============================] - 0s 3ms/step - loss: 0.5007 - accuracy: 0.7656\n",
            "Epoch 11/20\n",
            "18/18 [==============================] - 0s 2ms/step - loss: 0.4912 - accuracy: 0.7708\n",
            "Epoch 12/20\n",
            "18/18 [==============================] - 0s 2ms/step - loss: 0.4838 - accuracy: 0.7726\n",
            "Epoch 13/20\n",
            "18/18 [==============================] - 0s 2ms/step - loss: 0.4778 - accuracy: 0.7795\n",
            "Epoch 14/20\n",
            "18/18 [==============================] - 0s 3ms/step - loss: 0.4722 - accuracy: 0.7795\n",
            "Epoch 15/20\n",
            "18/18 [==============================] - 0s 4ms/step - loss: 0.4669 - accuracy: 0.7847\n",
            "Epoch 16/20\n",
            "18/18 [==============================] - 0s 3ms/step - loss: 0.4624 - accuracy: 0.7847\n",
            "Epoch 17/20\n",
            "18/18 [==============================] - 0s 3ms/step - loss: 0.4603 - accuracy: 0.7865\n",
            "Epoch 18/20\n",
            "18/18 [==============================] - 0s 2ms/step - loss: 0.4553 - accuracy: 0.7847\n",
            "Epoch 19/20\n",
            "18/18 [==============================] - 0s 3ms/step - loss: 0.4523 - accuracy: 0.7899\n",
            "Epoch 20/20\n",
            "18/18 [==============================] - 0s 3ms/step - loss: 0.4490 - accuracy: 0.7882\n"
          ]
        },
        {
          "output_type": "execute_result",
          "data": {
            "text/plain": [
              "<keras.callbacks.History at 0x7f823e7f6790>"
            ]
          },
          "metadata": {},
          "execution_count": 32
        }
      ]
    },
    {
      "cell_type": "code",
      "source": [
        "model.summary()"
      ],
      "metadata": {
        "colab": {
          "base_uri": "https://localhost:8080/"
        },
        "id": "zIpK408FvNQy",
        "outputId": "79d98647-f7be-427e-9ef6-2bbdaca35a2f"
      },
      "execution_count": 34,
      "outputs": [
        {
          "output_type": "stream",
          "name": "stdout",
          "text": [
            "Model: \"sequential_1\"\n",
            "_________________________________________________________________\n",
            " Layer (type)                Output Shape              Param #   \n",
            "=================================================================\n",
            " dense (Dense)               (32, 9)                   81        \n",
            "                                                                 \n",
            " dense_1 (Dense)             (32, 16)                  160       \n",
            "                                                                 \n",
            " dense_2 (Dense)             (32, 16)                  272       \n",
            "                                                                 \n",
            " dense_3 (Dense)             (32, 8)                   136       \n",
            "                                                                 \n",
            " dense_4 (Dense)             (32, 1)                   9         \n",
            "                                                                 \n",
            "=================================================================\n",
            "Total params: 658\n",
            "Trainable params: 658\n",
            "Non-trainable params: 0\n",
            "_________________________________________________________________\n"
          ]
        }
      ]
    },
    {
      "cell_type": "code",
      "source": [
        "y_pred = model.predict(X_test)"
      ],
      "metadata": {
        "colab": {
          "base_uri": "https://localhost:8080/"
        },
        "id": "EhSBaIYjv7qc",
        "outputId": "2b1c4770-1f2d-4078-cf93-6ac9358ef516"
      },
      "execution_count": 35,
      "outputs": [
        {
          "output_type": "stream",
          "name": "stdout",
          "text": [
            "6/6 [==============================] - 0s 2ms/step\n"
          ]
        }
      ]
    },
    {
      "cell_type": "code",
      "source": [
        "y_pred = np.round(y_pred)"
      ],
      "metadata": {
        "id": "cesBi-_kwHRw"
      },
      "execution_count": 38,
      "outputs": []
    },
    {
      "cell_type": "code",
      "source": [
        "from sklearn.metrics import classification_report, confusion_matrix"
      ],
      "metadata": {
        "id": "Wz8947JgwJTs"
      },
      "execution_count": 40,
      "outputs": []
    },
    {
      "cell_type": "code",
      "source": [
        "confusion_matrix(y_test, y_pred)"
      ],
      "metadata": {
        "colab": {
          "base_uri": "https://localhost:8080/"
        },
        "id": "OU8CHyIkwQK2",
        "outputId": "ba98e1fd-2a2d-4d63-edd5-afdb603556c0"
      },
      "execution_count": 41,
      "outputs": [
        {
          "output_type": "execute_result",
          "data": {
            "text/plain": [
              "array([[107,  11],\n",
              "       [ 30,  44]])"
            ]
          },
          "metadata": {},
          "execution_count": 41
        }
      ]
    },
    {
      "cell_type": "code",
      "source": [
        "print(classification_report(y_test, y_pred))"
      ],
      "metadata": {
        "colab": {
          "base_uri": "https://localhost:8080/"
        },
        "id": "RZEenY53wf7J",
        "outputId": "19f70ac9-39cb-4673-bbd0-5d7fe7715d5f"
      },
      "execution_count": 42,
      "outputs": [
        {
          "output_type": "stream",
          "name": "stdout",
          "text": [
            "              precision    recall  f1-score   support\n",
            "\n",
            "           0       0.78      0.91      0.84       118\n",
            "           1       0.80      0.59      0.68        74\n",
            "\n",
            "    accuracy                           0.79       192\n",
            "   macro avg       0.79      0.75      0.76       192\n",
            "weighted avg       0.79      0.79      0.78       192\n",
            "\n"
          ]
        }
      ]
    },
    {
      "cell_type": "markdown",
      "source": [
        "MULTICLASS CLASSIFICATION"
      ],
      "metadata": {
        "id": "vvG7YiTBw-Xw"
      }
    },
    {
      "cell_type": "markdown",
      "source": [
        "# MULTICLASS CLASSIFICATION"
      ],
      "metadata": {
        "id": "uwaegsop6VGQ"
      }
    },
    {
      "cell_type": "code",
      "source": [
        "import pandas as pd\n",
        "import numpy as np"
      ],
      "metadata": {
        "id": "_31jtRSSwoU2"
      },
      "execution_count": 89,
      "outputs": []
    },
    {
      "cell_type": "code",
      "source": [
        "iris = pd.read_csv('https://github.com/YBI-Foundation/Dataset/raw/main/IRIS.csv')"
      ],
      "metadata": {
        "id": "MU_qiQXXwmec"
      },
      "execution_count": 90,
      "outputs": []
    },
    {
      "cell_type": "code",
      "source": [
        "iris.head()"
      ],
      "metadata": {
        "colab": {
          "base_uri": "https://localhost:8080/",
          "height": 204
        },
        "id": "5Y6ZhEDMxgCY",
        "outputId": "b76b5c14-8d48-4808-8c40-0671f64a3ef0"
      },
      "execution_count": 91,
      "outputs": [
        {
          "output_type": "execute_result",
          "data": {
            "text/plain": [
              "   sepal_length  sepal_width  petal_length  petal_width      species\n",
              "0           5.1          3.5           1.4          0.2  Iris-setosa\n",
              "1           4.9          3.0           1.4          0.2  Iris-setosa\n",
              "2           4.7          3.2           1.3          0.2  Iris-setosa\n",
              "3           4.6          3.1           1.5          0.2  Iris-setosa\n",
              "4           5.0          3.6           1.4          0.2  Iris-setosa"
            ],
            "text/html": [
              "\n",
              "  <div id=\"df-8e8f6f77-96df-4c2f-9c61-4bbfd7a912cc\">\n",
              "    <div class=\"colab-df-container\">\n",
              "      <div>\n",
              "<style scoped>\n",
              "    .dataframe tbody tr th:only-of-type {\n",
              "        vertical-align: middle;\n",
              "    }\n",
              "\n",
              "    .dataframe tbody tr th {\n",
              "        vertical-align: top;\n",
              "    }\n",
              "\n",
              "    .dataframe thead th {\n",
              "        text-align: right;\n",
              "    }\n",
              "</style>\n",
              "<table border=\"1\" class=\"dataframe\">\n",
              "  <thead>\n",
              "    <tr style=\"text-align: right;\">\n",
              "      <th></th>\n",
              "      <th>sepal_length</th>\n",
              "      <th>sepal_width</th>\n",
              "      <th>petal_length</th>\n",
              "      <th>petal_width</th>\n",
              "      <th>species</th>\n",
              "    </tr>\n",
              "  </thead>\n",
              "  <tbody>\n",
              "    <tr>\n",
              "      <th>0</th>\n",
              "      <td>5.1</td>\n",
              "      <td>3.5</td>\n",
              "      <td>1.4</td>\n",
              "      <td>0.2</td>\n",
              "      <td>Iris-setosa</td>\n",
              "    </tr>\n",
              "    <tr>\n",
              "      <th>1</th>\n",
              "      <td>4.9</td>\n",
              "      <td>3.0</td>\n",
              "      <td>1.4</td>\n",
              "      <td>0.2</td>\n",
              "      <td>Iris-setosa</td>\n",
              "    </tr>\n",
              "    <tr>\n",
              "      <th>2</th>\n",
              "      <td>4.7</td>\n",
              "      <td>3.2</td>\n",
              "      <td>1.3</td>\n",
              "      <td>0.2</td>\n",
              "      <td>Iris-setosa</td>\n",
              "    </tr>\n",
              "    <tr>\n",
              "      <th>3</th>\n",
              "      <td>4.6</td>\n",
              "      <td>3.1</td>\n",
              "      <td>1.5</td>\n",
              "      <td>0.2</td>\n",
              "      <td>Iris-setosa</td>\n",
              "    </tr>\n",
              "    <tr>\n",
              "      <th>4</th>\n",
              "      <td>5.0</td>\n",
              "      <td>3.6</td>\n",
              "      <td>1.4</td>\n",
              "      <td>0.2</td>\n",
              "      <td>Iris-setosa</td>\n",
              "    </tr>\n",
              "  </tbody>\n",
              "</table>\n",
              "</div>\n",
              "      <button class=\"colab-df-convert\" onclick=\"convertToInteractive('df-8e8f6f77-96df-4c2f-9c61-4bbfd7a912cc')\"\n",
              "              title=\"Convert this dataframe to an interactive table.\"\n",
              "              style=\"display:none;\">\n",
              "        \n",
              "  <svg xmlns=\"http://www.w3.org/2000/svg\" height=\"24px\"viewBox=\"0 0 24 24\"\n",
              "       width=\"24px\">\n",
              "    <path d=\"M0 0h24v24H0V0z\" fill=\"none\"/>\n",
              "    <path d=\"M18.56 5.44l.94 2.06.94-2.06 2.06-.94-2.06-.94-.94-2.06-.94 2.06-2.06.94zm-11 1L8.5 8.5l.94-2.06 2.06-.94-2.06-.94L8.5 2.5l-.94 2.06-2.06.94zm10 10l.94 2.06.94-2.06 2.06-.94-2.06-.94-.94-2.06-.94 2.06-2.06.94z\"/><path d=\"M17.41 7.96l-1.37-1.37c-.4-.4-.92-.59-1.43-.59-.52 0-1.04.2-1.43.59L10.3 9.45l-7.72 7.72c-.78.78-.78 2.05 0 2.83L4 21.41c.39.39.9.59 1.41.59.51 0 1.02-.2 1.41-.59l7.78-7.78 2.81-2.81c.8-.78.8-2.07 0-2.86zM5.41 20L4 18.59l7.72-7.72 1.47 1.35L5.41 20z\"/>\n",
              "  </svg>\n",
              "      </button>\n",
              "      \n",
              "  <style>\n",
              "    .colab-df-container {\n",
              "      display:flex;\n",
              "      flex-wrap:wrap;\n",
              "      gap: 12px;\n",
              "    }\n",
              "\n",
              "    .colab-df-convert {\n",
              "      background-color: #E8F0FE;\n",
              "      border: none;\n",
              "      border-radius: 50%;\n",
              "      cursor: pointer;\n",
              "      display: none;\n",
              "      fill: #1967D2;\n",
              "      height: 32px;\n",
              "      padding: 0 0 0 0;\n",
              "      width: 32px;\n",
              "    }\n",
              "\n",
              "    .colab-df-convert:hover {\n",
              "      background-color: #E2EBFA;\n",
              "      box-shadow: 0px 1px 2px rgba(60, 64, 67, 0.3), 0px 1px 3px 1px rgba(60, 64, 67, 0.15);\n",
              "      fill: #174EA6;\n",
              "    }\n",
              "\n",
              "    [theme=dark] .colab-df-convert {\n",
              "      background-color: #3B4455;\n",
              "      fill: #D2E3FC;\n",
              "    }\n",
              "\n",
              "    [theme=dark] .colab-df-convert:hover {\n",
              "      background-color: #434B5C;\n",
              "      box-shadow: 0px 1px 3px 1px rgba(0, 0, 0, 0.15);\n",
              "      filter: drop-shadow(0px 1px 2px rgba(0, 0, 0, 0.3));\n",
              "      fill: #FFFFFF;\n",
              "    }\n",
              "  </style>\n",
              "\n",
              "      <script>\n",
              "        const buttonEl =\n",
              "          document.querySelector('#df-8e8f6f77-96df-4c2f-9c61-4bbfd7a912cc button.colab-df-convert');\n",
              "        buttonEl.style.display =\n",
              "          google.colab.kernel.accessAllowed ? 'block' : 'none';\n",
              "\n",
              "        async function convertToInteractive(key) {\n",
              "          const element = document.querySelector('#df-8e8f6f77-96df-4c2f-9c61-4bbfd7a912cc');\n",
              "          const dataTable =\n",
              "            await google.colab.kernel.invokeFunction('convertToInteractive',\n",
              "                                                     [key], {});\n",
              "          if (!dataTable) return;\n",
              "\n",
              "          const docLinkHtml = 'Like what you see? Visit the ' +\n",
              "            '<a target=\"_blank\" href=https://colab.research.google.com/notebooks/data_table.ipynb>data table notebook</a>'\n",
              "            + ' to learn more about interactive tables.';\n",
              "          element.innerHTML = '';\n",
              "          dataTable['output_type'] = 'display_data';\n",
              "          await google.colab.output.renderOutput(dataTable, element);\n",
              "          const docLink = document.createElement('div');\n",
              "          docLink.innerHTML = docLinkHtml;\n",
              "          element.appendChild(docLink);\n",
              "        }\n",
              "      </script>\n",
              "    </div>\n",
              "  </div>\n",
              "  "
            ]
          },
          "metadata": {},
          "execution_count": 91
        }
      ]
    },
    {
      "cell_type": "code",
      "source": [
        "y= iris['species']\n",
        "X= iris.drop(['species'], axis=1)"
      ],
      "metadata": {
        "id": "cFHDbxCyxhwi"
      },
      "execution_count": 92,
      "outputs": []
    },
    {
      "cell_type": "code",
      "source": [
        "X.shape"
      ],
      "metadata": {
        "colab": {
          "base_uri": "https://localhost:8080/"
        },
        "id": "7lyQyu7d32ws",
        "outputId": "80a561dc-047d-46c3-f14a-23d0c7b6dc1a"
      },
      "execution_count": 93,
      "outputs": [
        {
          "output_type": "execute_result",
          "data": {
            "text/plain": [
              "(150, 4)"
            ]
          },
          "metadata": {},
          "execution_count": 93
        }
      ]
    },
    {
      "cell_type": "code",
      "source": [
        "y = pd.get_dummies(y)"
      ],
      "metadata": {
        "id": "F0W3SNhhyD3o"
      },
      "execution_count": 94,
      "outputs": []
    },
    {
      "cell_type": "code",
      "source": [
        "from sklearn.model_selection import train_test_split\n",
        "X_train, X_test, y_train, y_test = train_test_split(X,y,random_state=2529 )"
      ],
      "metadata": {
        "id": "wEJHhNGbxpti"
      },
      "execution_count": 95,
      "outputs": []
    },
    {
      "cell_type": "code",
      "source": [
        "from sklearn.preprocessing import StandardScaler\n",
        "ss = StandardScaler()"
      ],
      "metadata": {
        "id": "3dijWZIyyDzK"
      },
      "execution_count": 96,
      "outputs": []
    },
    {
      "cell_type": "code",
      "source": [
        "X_train = ss.fit_transform(X_train)\n",
        "X_test = ss.transform(X_test)"
      ],
      "metadata": {
        "id": "6VZqkNzcyO9T"
      },
      "execution_count": 97,
      "outputs": []
    },
    {
      "cell_type": "code",
      "source": [
        "from keras.models import Sequential\n",
        "from keras.layers import Dense\n",
        "model = Sequential()"
      ],
      "metadata": {
        "id": "tYjX8Y4j3Tqt"
      },
      "execution_count": 98,
      "outputs": []
    },
    {
      "cell_type": "code",
      "source": [
        "model.add(Dense(9,activation= 'relu'))"
      ],
      "metadata": {
        "id": "2nPCQh1A3guC"
      },
      "execution_count": 99,
      "outputs": []
    },
    {
      "cell_type": "code",
      "source": [
        "model.add(Dense(16,activation= 'relu'))"
      ],
      "metadata": {
        "id": "OXGFeqHR3pXG"
      },
      "execution_count": 100,
      "outputs": []
    },
    {
      "cell_type": "code",
      "source": [
        "model.add(Dense(16,activation= 'relu'))"
      ],
      "metadata": {
        "id": "hxf6FwYD3pbw"
      },
      "execution_count": 101,
      "outputs": []
    },
    {
      "cell_type": "code",
      "source": [
        "model.add(Dense(8,activation= 'relu'))"
      ],
      "metadata": {
        "id": "Zq1p0tRq3pi7"
      },
      "execution_count": 102,
      "outputs": []
    },
    {
      "cell_type": "code",
      "source": [
        "model.add(Dense(3,activation= 'softmax'))"
      ],
      "metadata": {
        "id": "wb8tMTfH3poy"
      },
      "execution_count": 103,
      "outputs": []
    },
    {
      "cell_type": "code",
      "source": [
        "model.compile(optimizer='adam', loss='categorical_crossentropy', metrics=['accuracy'])"
      ],
      "metadata": {
        "id": "QthtN2313ptu"
      },
      "execution_count": 104,
      "outputs": []
    },
    {
      "cell_type": "code",
      "source": [
        "model.fit(X_train, y_train, batch_size=32, epochs=20, verbose=1)"
      ],
      "metadata": {
        "colab": {
          "base_uri": "https://localhost:8080/"
        },
        "id": "CHw9yCiK4ly_",
        "outputId": "988270e7-6065-4add-a5a1-8f319bfda803"
      },
      "execution_count": 105,
      "outputs": [
        {
          "output_type": "stream",
          "name": "stdout",
          "text": [
            "Epoch 1/20\n",
            "4/4 [==============================] - 1s 4ms/step - loss: 1.0900 - accuracy: 0.3393\n",
            "Epoch 2/20\n",
            "4/4 [==============================] - 0s 4ms/step - loss: 1.0457 - accuracy: 0.5089\n",
            "Epoch 3/20\n",
            "4/4 [==============================] - 0s 4ms/step - loss: 1.0052 - accuracy: 0.6161\n",
            "Epoch 4/20\n",
            "4/4 [==============================] - 0s 5ms/step - loss: 0.9724 - accuracy: 0.6518\n",
            "Epoch 5/20\n",
            "4/4 [==============================] - 0s 5ms/step - loss: 0.9479 - accuracy: 0.6518\n",
            "Epoch 6/20\n",
            "4/4 [==============================] - 0s 5ms/step - loss: 0.9223 - accuracy: 0.6518\n",
            "Epoch 7/20\n",
            "4/4 [==============================] - 0s 5ms/step - loss: 0.9000 - accuracy: 0.6696\n",
            "Epoch 8/20\n",
            "4/4 [==============================] - 0s 4ms/step - loss: 0.8768 - accuracy: 0.6696\n",
            "Epoch 9/20\n",
            "4/4 [==============================] - 0s 4ms/step - loss: 0.8550 - accuracy: 0.6786\n",
            "Epoch 10/20\n",
            "4/4 [==============================] - 0s 6ms/step - loss: 0.8331 - accuracy: 0.6875\n",
            "Epoch 11/20\n",
            "4/4 [==============================] - 0s 4ms/step - loss: 0.8129 - accuracy: 0.6964\n",
            "Epoch 12/20\n",
            "4/4 [==============================] - 0s 5ms/step - loss: 0.7922 - accuracy: 0.6964\n",
            "Epoch 13/20\n",
            "4/4 [==============================] - 0s 4ms/step - loss: 0.7715 - accuracy: 0.6964\n",
            "Epoch 14/20\n",
            "4/4 [==============================] - 0s 5ms/step - loss: 0.7516 - accuracy: 0.7054\n",
            "Epoch 15/20\n",
            "4/4 [==============================] - 0s 5ms/step - loss: 0.7333 - accuracy: 0.7054\n",
            "Epoch 16/20\n",
            "4/4 [==============================] - 0s 5ms/step - loss: 0.7144 - accuracy: 0.7054\n",
            "Epoch 17/20\n",
            "4/4 [==============================] - 0s 5ms/step - loss: 0.6970 - accuracy: 0.7054\n",
            "Epoch 18/20\n",
            "4/4 [==============================] - 0s 4ms/step - loss: 0.6813 - accuracy: 0.7054\n",
            "Epoch 19/20\n",
            "4/4 [==============================] - 0s 4ms/step - loss: 0.6657 - accuracy: 0.7143\n",
            "Epoch 20/20\n",
            "4/4 [==============================] - 0s 5ms/step - loss: 0.6514 - accuracy: 0.7143\n"
          ]
        },
        {
          "output_type": "execute_result",
          "data": {
            "text/plain": [
              "<keras.callbacks.History at 0x7f8234369f40>"
            ]
          },
          "metadata": {},
          "execution_count": 105
        }
      ]
    },
    {
      "cell_type": "code",
      "source": [
        "model.summary()"
      ],
      "metadata": {
        "colab": {
          "base_uri": "https://localhost:8080/"
        },
        "id": "UPwf0Tap4vOo",
        "outputId": "9e707511-275b-4d46-ccd0-3954e19d99a6"
      },
      "execution_count": 106,
      "outputs": [
        {
          "output_type": "stream",
          "name": "stdout",
          "text": [
            "Model: \"sequential_3\"\n",
            "_________________________________________________________________\n",
            " Layer (type)                Output Shape              Param #   \n",
            "=================================================================\n",
            " dense_10 (Dense)            (None, 9)                 45        \n",
            "                                                                 \n",
            " dense_11 (Dense)            (None, 16)                160       \n",
            "                                                                 \n",
            " dense_12 (Dense)            (None, 16)                272       \n",
            "                                                                 \n",
            " dense_13 (Dense)            (None, 8)                 136       \n",
            "                                                                 \n",
            " dense_14 (Dense)            (None, 3)                 27        \n",
            "                                                                 \n",
            "=================================================================\n",
            "Total params: 640\n",
            "Trainable params: 640\n",
            "Non-trainable params: 0\n",
            "_________________________________________________________________\n"
          ]
        }
      ]
    },
    {
      "cell_type": "code",
      "source": [
        "y_pred = model.predict(X_test)"
      ],
      "metadata": {
        "colab": {
          "base_uri": "https://localhost:8080/"
        },
        "id": "orpiqfx149hl",
        "outputId": "61306026-9a3f-4d85-fcb0-91322f8ea38e"
      },
      "execution_count": 107,
      "outputs": [
        {
          "output_type": "stream",
          "name": "stdout",
          "text": [
            "2/2 [==============================] - 0s 6ms/step\n"
          ]
        }
      ]
    },
    {
      "cell_type": "code",
      "source": [
        "y_pred=np.argmax(y_pred, axis=1)"
      ],
      "metadata": {
        "id": "lUaln07u5Pxv"
      },
      "execution_count": 108,
      "outputs": []
    },
    {
      "cell_type": "code",
      "source": [
        "y_test=np.argmax(y_test.values, axis=1)"
      ],
      "metadata": {
        "id": "ZxVeD65b5RS8"
      },
      "execution_count": 109,
      "outputs": []
    },
    {
      "cell_type": "code",
      "source": [
        "from sklearn.metrics import classification_report, confusion_matrix"
      ],
      "metadata": {
        "id": "xS-tJFYI5eyi"
      },
      "execution_count": 110,
      "outputs": []
    },
    {
      "cell_type": "code",
      "source": [
        "confusion_matrix(y_test, y_pred)"
      ],
      "metadata": {
        "colab": {
          "base_uri": "https://localhost:8080/"
        },
        "id": "CllpjC1K5wqJ",
        "outputId": "78a38604-f01a-4685-bb1b-eaa659e0d251"
      },
      "execution_count": 111,
      "outputs": [
        {
          "output_type": "execute_result",
          "data": {
            "text/plain": [
              "array([[13,  0,  0],\n",
              "       [ 0,  6,  0],\n",
              "       [ 1, 18,  0]])"
            ]
          },
          "metadata": {},
          "execution_count": 111
        }
      ]
    },
    {
      "cell_type": "code",
      "source": [
        "print(classification_report(y_test, y_pred))"
      ],
      "metadata": {
        "colab": {
          "base_uri": "https://localhost:8080/"
        },
        "id": "R7_uBAHt50l_",
        "outputId": "155aa2e6-1a49-4116-b5e2-036157c50888"
      },
      "execution_count": 112,
      "outputs": [
        {
          "output_type": "stream",
          "name": "stdout",
          "text": [
            "              precision    recall  f1-score   support\n",
            "\n",
            "           0       0.93      1.00      0.96        13\n",
            "           1       0.25      1.00      0.40         6\n",
            "           2       0.00      0.00      0.00        19\n",
            "\n",
            "    accuracy                           0.50        38\n",
            "   macro avg       0.39      0.67      0.45        38\n",
            "weighted avg       0.36      0.50      0.39        38\n",
            "\n"
          ]
        },
        {
          "output_type": "stream",
          "name": "stderr",
          "text": [
            "/usr/local/lib/python3.8/dist-packages/sklearn/metrics/_classification.py:1318: UndefinedMetricWarning: Precision and F-score are ill-defined and being set to 0.0 in labels with no predicted samples. Use `zero_division` parameter to control this behavior.\n",
            "  _warn_prf(average, modifier, msg_start, len(result))\n",
            "/usr/local/lib/python3.8/dist-packages/sklearn/metrics/_classification.py:1318: UndefinedMetricWarning: Precision and F-score are ill-defined and being set to 0.0 in labels with no predicted samples. Use `zero_division` parameter to control this behavior.\n",
            "  _warn_prf(average, modifier, msg_start, len(result))\n",
            "/usr/local/lib/python3.8/dist-packages/sklearn/metrics/_classification.py:1318: UndefinedMetricWarning: Precision and F-score are ill-defined and being set to 0.0 in labels with no predicted samples. Use `zero_division` parameter to control this behavior.\n",
            "  _warn_prf(average, modifier, msg_start, len(result))\n"
          ]
        }
      ]
    },
    {
      "cell_type": "markdown",
      "source": [
        "# REGRESSION"
      ],
      "metadata": {
        "id": "d1XAa5xL6rS2"
      }
    },
    {
      "cell_type": "code",
      "source": [
        "import pandas as pd\n",
        "import numpy as np"
      ],
      "metadata": {
        "id": "vryDTF9m6It_"
      },
      "execution_count": 113,
      "outputs": []
    },
    {
      "cell_type": "code",
      "source": [
        "house=pd.read_csv('https://github.com/YBI-Foundation/Dataset/raw/main/Boston.csv')"
      ],
      "metadata": {
        "id": "5-krdizp6z2a"
      },
      "execution_count": 114,
      "outputs": []
    },
    {
      "cell_type": "code",
      "source": [
        "house.head()"
      ],
      "metadata": {
        "colab": {
          "base_uri": "https://localhost:8080/",
          "height": 204
        },
        "id": "zv4KqqTw7COu",
        "outputId": "aa0ce16d-1e82-40b4-964a-431493f47650"
      },
      "execution_count": 115,
      "outputs": [
        {
          "output_type": "execute_result",
          "data": {
            "text/plain": [
              "      CRIM    ZN  INDUS  CHAS     NX     RM   AGE     DIS  RAD    TAX  \\\n",
              "0  0.00632  18.0   2.31     0  0.538  6.575  65.2  4.0900    1  296.0   \n",
              "1  0.02731   0.0   7.07     0  0.469  6.421  78.9  4.9671    2  242.0   \n",
              "2  0.02729   0.0   7.07     0  0.469  7.185  61.1  4.9671    2  242.0   \n",
              "3  0.03237   0.0   2.18     0  0.458  6.998  45.8  6.0622    3  222.0   \n",
              "4  0.06905   0.0   2.18     0  0.458  7.147  54.2  6.0622    3  222.0   \n",
              "\n",
              "   PTRATIO       B  LSTAT  MEDV  \n",
              "0     15.3  396.90   4.98  24.0  \n",
              "1     17.8  396.90   9.14  21.6  \n",
              "2     17.8  392.83   4.03  34.7  \n",
              "3     18.7  394.63   2.94  33.4  \n",
              "4     18.7  396.90   5.33  36.2  "
            ],
            "text/html": [
              "\n",
              "  <div id=\"df-6fd6e851-30f8-4380-aeb5-8ca545b9ee7d\">\n",
              "    <div class=\"colab-df-container\">\n",
              "      <div>\n",
              "<style scoped>\n",
              "    .dataframe tbody tr th:only-of-type {\n",
              "        vertical-align: middle;\n",
              "    }\n",
              "\n",
              "    .dataframe tbody tr th {\n",
              "        vertical-align: top;\n",
              "    }\n",
              "\n",
              "    .dataframe thead th {\n",
              "        text-align: right;\n",
              "    }\n",
              "</style>\n",
              "<table border=\"1\" class=\"dataframe\">\n",
              "  <thead>\n",
              "    <tr style=\"text-align: right;\">\n",
              "      <th></th>\n",
              "      <th>CRIM</th>\n",
              "      <th>ZN</th>\n",
              "      <th>INDUS</th>\n",
              "      <th>CHAS</th>\n",
              "      <th>NX</th>\n",
              "      <th>RM</th>\n",
              "      <th>AGE</th>\n",
              "      <th>DIS</th>\n",
              "      <th>RAD</th>\n",
              "      <th>TAX</th>\n",
              "      <th>PTRATIO</th>\n",
              "      <th>B</th>\n",
              "      <th>LSTAT</th>\n",
              "      <th>MEDV</th>\n",
              "    </tr>\n",
              "  </thead>\n",
              "  <tbody>\n",
              "    <tr>\n",
              "      <th>0</th>\n",
              "      <td>0.00632</td>\n",
              "      <td>18.0</td>\n",
              "      <td>2.31</td>\n",
              "      <td>0</td>\n",
              "      <td>0.538</td>\n",
              "      <td>6.575</td>\n",
              "      <td>65.2</td>\n",
              "      <td>4.0900</td>\n",
              "      <td>1</td>\n",
              "      <td>296.0</td>\n",
              "      <td>15.3</td>\n",
              "      <td>396.90</td>\n",
              "      <td>4.98</td>\n",
              "      <td>24.0</td>\n",
              "    </tr>\n",
              "    <tr>\n",
              "      <th>1</th>\n",
              "      <td>0.02731</td>\n",
              "      <td>0.0</td>\n",
              "      <td>7.07</td>\n",
              "      <td>0</td>\n",
              "      <td>0.469</td>\n",
              "      <td>6.421</td>\n",
              "      <td>78.9</td>\n",
              "      <td>4.9671</td>\n",
              "      <td>2</td>\n",
              "      <td>242.0</td>\n",
              "      <td>17.8</td>\n",
              "      <td>396.90</td>\n",
              "      <td>9.14</td>\n",
              "      <td>21.6</td>\n",
              "    </tr>\n",
              "    <tr>\n",
              "      <th>2</th>\n",
              "      <td>0.02729</td>\n",
              "      <td>0.0</td>\n",
              "      <td>7.07</td>\n",
              "      <td>0</td>\n",
              "      <td>0.469</td>\n",
              "      <td>7.185</td>\n",
              "      <td>61.1</td>\n",
              "      <td>4.9671</td>\n",
              "      <td>2</td>\n",
              "      <td>242.0</td>\n",
              "      <td>17.8</td>\n",
              "      <td>392.83</td>\n",
              "      <td>4.03</td>\n",
              "      <td>34.7</td>\n",
              "    </tr>\n",
              "    <tr>\n",
              "      <th>3</th>\n",
              "      <td>0.03237</td>\n",
              "      <td>0.0</td>\n",
              "      <td>2.18</td>\n",
              "      <td>0</td>\n",
              "      <td>0.458</td>\n",
              "      <td>6.998</td>\n",
              "      <td>45.8</td>\n",
              "      <td>6.0622</td>\n",
              "      <td>3</td>\n",
              "      <td>222.0</td>\n",
              "      <td>18.7</td>\n",
              "      <td>394.63</td>\n",
              "      <td>2.94</td>\n",
              "      <td>33.4</td>\n",
              "    </tr>\n",
              "    <tr>\n",
              "      <th>4</th>\n",
              "      <td>0.06905</td>\n",
              "      <td>0.0</td>\n",
              "      <td>2.18</td>\n",
              "      <td>0</td>\n",
              "      <td>0.458</td>\n",
              "      <td>7.147</td>\n",
              "      <td>54.2</td>\n",
              "      <td>6.0622</td>\n",
              "      <td>3</td>\n",
              "      <td>222.0</td>\n",
              "      <td>18.7</td>\n",
              "      <td>396.90</td>\n",
              "      <td>5.33</td>\n",
              "      <td>36.2</td>\n",
              "    </tr>\n",
              "  </tbody>\n",
              "</table>\n",
              "</div>\n",
              "      <button class=\"colab-df-convert\" onclick=\"convertToInteractive('df-6fd6e851-30f8-4380-aeb5-8ca545b9ee7d')\"\n",
              "              title=\"Convert this dataframe to an interactive table.\"\n",
              "              style=\"display:none;\">\n",
              "        \n",
              "  <svg xmlns=\"http://www.w3.org/2000/svg\" height=\"24px\"viewBox=\"0 0 24 24\"\n",
              "       width=\"24px\">\n",
              "    <path d=\"M0 0h24v24H0V0z\" fill=\"none\"/>\n",
              "    <path d=\"M18.56 5.44l.94 2.06.94-2.06 2.06-.94-2.06-.94-.94-2.06-.94 2.06-2.06.94zm-11 1L8.5 8.5l.94-2.06 2.06-.94-2.06-.94L8.5 2.5l-.94 2.06-2.06.94zm10 10l.94 2.06.94-2.06 2.06-.94-2.06-.94-.94-2.06-.94 2.06-2.06.94z\"/><path d=\"M17.41 7.96l-1.37-1.37c-.4-.4-.92-.59-1.43-.59-.52 0-1.04.2-1.43.59L10.3 9.45l-7.72 7.72c-.78.78-.78 2.05 0 2.83L4 21.41c.39.39.9.59 1.41.59.51 0 1.02-.2 1.41-.59l7.78-7.78 2.81-2.81c.8-.78.8-2.07 0-2.86zM5.41 20L4 18.59l7.72-7.72 1.47 1.35L5.41 20z\"/>\n",
              "  </svg>\n",
              "      </button>\n",
              "      \n",
              "  <style>\n",
              "    .colab-df-container {\n",
              "      display:flex;\n",
              "      flex-wrap:wrap;\n",
              "      gap: 12px;\n",
              "    }\n",
              "\n",
              "    .colab-df-convert {\n",
              "      background-color: #E8F0FE;\n",
              "      border: none;\n",
              "      border-radius: 50%;\n",
              "      cursor: pointer;\n",
              "      display: none;\n",
              "      fill: #1967D2;\n",
              "      height: 32px;\n",
              "      padding: 0 0 0 0;\n",
              "      width: 32px;\n",
              "    }\n",
              "\n",
              "    .colab-df-convert:hover {\n",
              "      background-color: #E2EBFA;\n",
              "      box-shadow: 0px 1px 2px rgba(60, 64, 67, 0.3), 0px 1px 3px 1px rgba(60, 64, 67, 0.15);\n",
              "      fill: #174EA6;\n",
              "    }\n",
              "\n",
              "    [theme=dark] .colab-df-convert {\n",
              "      background-color: #3B4455;\n",
              "      fill: #D2E3FC;\n",
              "    }\n",
              "\n",
              "    [theme=dark] .colab-df-convert:hover {\n",
              "      background-color: #434B5C;\n",
              "      box-shadow: 0px 1px 3px 1px rgba(0, 0, 0, 0.15);\n",
              "      filter: drop-shadow(0px 1px 2px rgba(0, 0, 0, 0.3));\n",
              "      fill: #FFFFFF;\n",
              "    }\n",
              "  </style>\n",
              "\n",
              "      <script>\n",
              "        const buttonEl =\n",
              "          document.querySelector('#df-6fd6e851-30f8-4380-aeb5-8ca545b9ee7d button.colab-df-convert');\n",
              "        buttonEl.style.display =\n",
              "          google.colab.kernel.accessAllowed ? 'block' : 'none';\n",
              "\n",
              "        async function convertToInteractive(key) {\n",
              "          const element = document.querySelector('#df-6fd6e851-30f8-4380-aeb5-8ca545b9ee7d');\n",
              "          const dataTable =\n",
              "            await google.colab.kernel.invokeFunction('convertToInteractive',\n",
              "                                                     [key], {});\n",
              "          if (!dataTable) return;\n",
              "\n",
              "          const docLinkHtml = 'Like what you see? Visit the ' +\n",
              "            '<a target=\"_blank\" href=https://colab.research.google.com/notebooks/data_table.ipynb>data table notebook</a>'\n",
              "            + ' to learn more about interactive tables.';\n",
              "          element.innerHTML = '';\n",
              "          dataTable['output_type'] = 'display_data';\n",
              "          await google.colab.output.renderOutput(dataTable, element);\n",
              "          const docLink = document.createElement('div');\n",
              "          docLink.innerHTML = docLinkHtml;\n",
              "          element.appendChild(docLink);\n",
              "        }\n",
              "      </script>\n",
              "    </div>\n",
              "  </div>\n",
              "  "
            ]
          },
          "metadata": {},
          "execution_count": 115
        }
      ]
    },
    {
      "cell_type": "code",
      "source": [
        "y= house['MEDV']\n",
        "X= house.drop(['MEDV'],axis=1)"
      ],
      "metadata": {
        "id": "z_ZiHIa67EDK"
      },
      "execution_count": 117,
      "outputs": []
    },
    {
      "cell_type": "code",
      "source": [
        "X.shape"
      ],
      "metadata": {
        "colab": {
          "base_uri": "https://localhost:8080/"
        },
        "id": "DZd1Bqju9Jrd",
        "outputId": "80845f66-e270-4771-f7f0-08857be24be2"
      },
      "execution_count": 130,
      "outputs": [
        {
          "output_type": "execute_result",
          "data": {
            "text/plain": [
              "(506, 13)"
            ]
          },
          "metadata": {},
          "execution_count": 130
        }
      ]
    },
    {
      "cell_type": "code",
      "source": [
        "from sklearn.model_selection import train_test_split\n",
        "X_train, X_test, y_train, y_test = train_test_split(X,y, random_state=2529)"
      ],
      "metadata": {
        "id": "OoGpOX267lbd"
      },
      "execution_count": 119,
      "outputs": []
    },
    {
      "cell_type": "code",
      "source": [
        "from sklearn.preprocessing import StandardScaler\n",
        "ss = StandardScaler()"
      ],
      "metadata": {
        "id": "EgoROoC57M0Z"
      },
      "execution_count": 120,
      "outputs": []
    },
    {
      "cell_type": "code",
      "source": [
        "X_train = ss.fit_transform(X_train)\n",
        "X_test = ss.transform(X_test)"
      ],
      "metadata": {
        "id": "RKO2W-SX7aij"
      },
      "execution_count": 121,
      "outputs": []
    },
    {
      "cell_type": "code",
      "source": [
        "from keras.models import Sequential\n",
        "from keras.layers import Dense\n",
        "model= Sequential()"
      ],
      "metadata": {
        "id": "kwWH5ayu773S"
      },
      "execution_count": 122,
      "outputs": []
    },
    {
      "cell_type": "code",
      "source": [
        "model.add(Dense(14,activation= 'relu'))"
      ],
      "metadata": {
        "id": "UoF2_4kw8H6e"
      },
      "execution_count": 131,
      "outputs": []
    },
    {
      "cell_type": "code",
      "source": [
        "model.add(Dense(26,activation= 'relu'))"
      ],
      "metadata": {
        "id": "prCN711m8Ouo"
      },
      "execution_count": 132,
      "outputs": []
    },
    {
      "cell_type": "code",
      "source": [
        "model.add(Dense(26,activation= 'relu'))"
      ],
      "metadata": {
        "id": "nUXSSuyg8S_a"
      },
      "execution_count": 133,
      "outputs": []
    },
    {
      "cell_type": "code",
      "source": [
        "model.add(Dense(13,activation= 'relu'))"
      ],
      "metadata": {
        "id": "jYJCcgfT8Xpb"
      },
      "execution_count": 134,
      "outputs": []
    },
    {
      "cell_type": "code",
      "source": [
        "model.add(Dense(1,activation= 'linear'))"
      ],
      "metadata": {
        "id": "YedN7gXr8bqE"
      },
      "execution_count": 135,
      "outputs": []
    },
    {
      "cell_type": "code",
      "source": [
        "model.compile(optimizer='adam', loss='mean_squared_error', metrics=['mean_squared_error'])"
      ],
      "metadata": {
        "id": "4ZE3I--28hQp"
      },
      "execution_count": 136,
      "outputs": []
    },
    {
      "cell_type": "code",
      "source": [
        "model.fit(X_train, y_train, batch_size=32, epochs=220, verbose=1)"
      ],
      "metadata": {
        "colab": {
          "base_uri": "https://localhost:8080/"
        },
        "id": "dUSq7WbC8tdl",
        "outputId": "382420a4-a8e4-4730-aba9-38667d8b455b"
      },
      "execution_count": 137,
      "outputs": [
        {
          "output_type": "stream",
          "name": "stdout",
          "text": [
            "Epoch 1/220\n",
            "12/12 [==============================] - 3s 6ms/step - loss: 621.2866 - mean_squared_error: 621.2866\n",
            "Epoch 2/220\n",
            "12/12 [==============================] - 0s 6ms/step - loss: 500.9853 - mean_squared_error: 500.9853\n",
            "Epoch 3/220\n",
            "12/12 [==============================] - 0s 18ms/step - loss: 311.2600 - mean_squared_error: 311.2600\n",
            "Epoch 4/220\n",
            "12/12 [==============================] - 0s 10ms/step - loss: 91.8218 - mean_squared_error: 91.8218\n",
            "Epoch 5/220\n",
            "12/12 [==============================] - 0s 10ms/step - loss: 14.7925 - mean_squared_error: 14.7925\n",
            "Epoch 6/220\n",
            "12/12 [==============================] - 0s 9ms/step - loss: 13.5381 - mean_squared_error: 13.5381\n",
            "Epoch 7/220\n",
            "12/12 [==============================] - 0s 10ms/step - loss: 9.7554 - mean_squared_error: 9.7554\n",
            "Epoch 8/220\n",
            "12/12 [==============================] - 0s 11ms/step - loss: 9.1492 - mean_squared_error: 9.1492\n",
            "Epoch 9/220\n",
            "12/12 [==============================] - 0s 12ms/step - loss: 8.5203 - mean_squared_error: 8.5203\n",
            "Epoch 10/220\n",
            "12/12 [==============================] - 0s 11ms/step - loss: 8.2489 - mean_squared_error: 8.2489\n",
            "Epoch 11/220\n",
            "12/12 [==============================] - 0s 12ms/step - loss: 8.1380 - mean_squared_error: 8.1380\n",
            "Epoch 12/220\n",
            "12/12 [==============================] - 0s 8ms/step - loss: 8.0740 - mean_squared_error: 8.0740\n",
            "Epoch 13/220\n",
            "12/12 [==============================] - 0s 6ms/step - loss: 8.0097 - mean_squared_error: 8.0097\n",
            "Epoch 14/220\n",
            "12/12 [==============================] - 0s 6ms/step - loss: 7.9552 - mean_squared_error: 7.9552\n",
            "Epoch 15/220\n",
            "12/12 [==============================] - 0s 6ms/step - loss: 7.8553 - mean_squared_error: 7.8553\n",
            "Epoch 16/220\n",
            "12/12 [==============================] - 0s 6ms/step - loss: 7.8521 - mean_squared_error: 7.8521\n",
            "Epoch 17/220\n",
            "12/12 [==============================] - 0s 7ms/step - loss: 7.7947 - mean_squared_error: 7.7947\n",
            "Epoch 18/220\n",
            "12/12 [==============================] - 0s 4ms/step - loss: 7.7929 - mean_squared_error: 7.7929\n",
            "Epoch 19/220\n",
            "12/12 [==============================] - 0s 3ms/step - loss: 7.7330 - mean_squared_error: 7.7330\n",
            "Epoch 20/220\n",
            "12/12 [==============================] - 0s 3ms/step - loss: 7.7253 - mean_squared_error: 7.7253\n",
            "Epoch 21/220\n",
            "12/12 [==============================] - 0s 3ms/step - loss: 7.6760 - mean_squared_error: 7.6760\n",
            "Epoch 22/220\n",
            "12/12 [==============================] - 0s 4ms/step - loss: 7.7455 - mean_squared_error: 7.7455\n",
            "Epoch 23/220\n",
            "12/12 [==============================] - 0s 3ms/step - loss: 7.7764 - mean_squared_error: 7.7764\n",
            "Epoch 24/220\n",
            "12/12 [==============================] - 0s 3ms/step - loss: 7.6716 - mean_squared_error: 7.6716\n",
            "Epoch 25/220\n",
            "12/12 [==============================] - 0s 3ms/step - loss: 7.6265 - mean_squared_error: 7.6265\n",
            "Epoch 26/220\n",
            "12/12 [==============================] - 0s 3ms/step - loss: 7.6563 - mean_squared_error: 7.6563\n",
            "Epoch 27/220\n",
            "12/12 [==============================] - 0s 3ms/step - loss: 7.6468 - mean_squared_error: 7.6468\n",
            "Epoch 28/220\n",
            "12/12 [==============================] - 0s 3ms/step - loss: 7.5673 - mean_squared_error: 7.5673\n",
            "Epoch 29/220\n",
            "12/12 [==============================] - 0s 4ms/step - loss: 7.5596 - mean_squared_error: 7.5596\n",
            "Epoch 30/220\n",
            "12/12 [==============================] - 0s 3ms/step - loss: 7.5688 - mean_squared_error: 7.5688\n",
            "Epoch 31/220\n",
            "12/12 [==============================] - 0s 3ms/step - loss: 7.5042 - mean_squared_error: 7.5042\n",
            "Epoch 32/220\n",
            "12/12 [==============================] - 0s 3ms/step - loss: 7.4537 - mean_squared_error: 7.4537\n",
            "Epoch 33/220\n",
            "12/12 [==============================] - 0s 3ms/step - loss: 7.5180 - mean_squared_error: 7.5180\n",
            "Epoch 34/220\n",
            "12/12 [==============================] - 0s 3ms/step - loss: 7.4598 - mean_squared_error: 7.4598\n",
            "Epoch 35/220\n",
            "12/12 [==============================] - 0s 3ms/step - loss: 7.4159 - mean_squared_error: 7.4159\n",
            "Epoch 36/220\n",
            "12/12 [==============================] - 0s 3ms/step - loss: 7.3878 - mean_squared_error: 7.3878\n",
            "Epoch 37/220\n",
            "12/12 [==============================] - 0s 3ms/step - loss: 7.4338 - mean_squared_error: 7.4338\n",
            "Epoch 38/220\n",
            "12/12 [==============================] - 0s 4ms/step - loss: 7.3727 - mean_squared_error: 7.3727\n",
            "Epoch 39/220\n",
            "12/12 [==============================] - 0s 3ms/step - loss: 7.3645 - mean_squared_error: 7.3645\n",
            "Epoch 40/220\n",
            "12/12 [==============================] - 0s 3ms/step - loss: 7.3470 - mean_squared_error: 7.3470\n",
            "Epoch 41/220\n",
            "12/12 [==============================] - 0s 4ms/step - loss: 7.3109 - mean_squared_error: 7.3109\n",
            "Epoch 42/220\n",
            "12/12 [==============================] - 0s 3ms/step - loss: 7.2996 - mean_squared_error: 7.2996\n",
            "Epoch 43/220\n",
            "12/12 [==============================] - 0s 3ms/step - loss: 7.4429 - mean_squared_error: 7.4429\n",
            "Epoch 44/220\n",
            "12/12 [==============================] - 0s 3ms/step - loss: 7.2768 - mean_squared_error: 7.2768\n",
            "Epoch 45/220\n",
            "12/12 [==============================] - 0s 6ms/step - loss: 7.2809 - mean_squared_error: 7.2809\n",
            "Epoch 46/220\n",
            "12/12 [==============================] - 0s 4ms/step - loss: 7.2561 - mean_squared_error: 7.2561\n",
            "Epoch 47/220\n",
            "12/12 [==============================] - 0s 3ms/step - loss: 7.2495 - mean_squared_error: 7.2495\n",
            "Epoch 48/220\n",
            "12/12 [==============================] - 0s 3ms/step - loss: 7.2307 - mean_squared_error: 7.2307\n",
            "Epoch 49/220\n",
            "12/12 [==============================] - 0s 4ms/step - loss: 7.1959 - mean_squared_error: 7.1959\n",
            "Epoch 50/220\n",
            "12/12 [==============================] - 0s 3ms/step - loss: 7.1896 - mean_squared_error: 7.1896\n",
            "Epoch 51/220\n",
            "12/12 [==============================] - 0s 3ms/step - loss: 7.2059 - mean_squared_error: 7.2059\n",
            "Epoch 52/220\n",
            "12/12 [==============================] - 0s 3ms/step - loss: 7.1774 - mean_squared_error: 7.1774\n",
            "Epoch 53/220\n",
            "12/12 [==============================] - 0s 3ms/step - loss: 7.2774 - mean_squared_error: 7.2774\n",
            "Epoch 54/220\n",
            "12/12 [==============================] - 0s 3ms/step - loss: 7.1850 - mean_squared_error: 7.1850\n",
            "Epoch 55/220\n",
            "12/12 [==============================] - 0s 3ms/step - loss: 7.2569 - mean_squared_error: 7.2569\n",
            "Epoch 56/220\n",
            "12/12 [==============================] - 0s 3ms/step - loss: 7.1855 - mean_squared_error: 7.1855\n",
            "Epoch 57/220\n",
            "12/12 [==============================] - 0s 3ms/step - loss: 7.0992 - mean_squared_error: 7.0992\n",
            "Epoch 58/220\n",
            "12/12 [==============================] - 0s 3ms/step - loss: 7.3064 - mean_squared_error: 7.3064\n",
            "Epoch 59/220\n",
            "12/12 [==============================] - 0s 4ms/step - loss: 7.1288 - mean_squared_error: 7.1288\n",
            "Epoch 60/220\n",
            "12/12 [==============================] - 0s 3ms/step - loss: 7.0795 - mean_squared_error: 7.0795\n",
            "Epoch 61/220\n",
            "12/12 [==============================] - 0s 3ms/step - loss: 7.1920 - mean_squared_error: 7.1920\n",
            "Epoch 62/220\n",
            "12/12 [==============================] - 0s 3ms/step - loss: 7.1087 - mean_squared_error: 7.1087\n",
            "Epoch 63/220\n",
            "12/12 [==============================] - 0s 3ms/step - loss: 7.0583 - mean_squared_error: 7.0583\n",
            "Epoch 64/220\n",
            "12/12 [==============================] - 0s 3ms/step - loss: 7.0706 - mean_squared_error: 7.0706\n",
            "Epoch 65/220\n",
            "12/12 [==============================] - 0s 3ms/step - loss: 7.0599 - mean_squared_error: 7.0599\n",
            "Epoch 66/220\n",
            "12/12 [==============================] - 0s 3ms/step - loss: 7.0377 - mean_squared_error: 7.0377\n",
            "Epoch 67/220\n",
            "12/12 [==============================] - 0s 3ms/step - loss: 7.0350 - mean_squared_error: 7.0350\n",
            "Epoch 68/220\n",
            "12/12 [==============================] - 0s 3ms/step - loss: 7.0503 - mean_squared_error: 7.0503\n",
            "Epoch 69/220\n",
            "12/12 [==============================] - 0s 3ms/step - loss: 7.0290 - mean_squared_error: 7.0290\n",
            "Epoch 70/220\n",
            "12/12 [==============================] - 0s 3ms/step - loss: 6.9735 - mean_squared_error: 6.9735\n",
            "Epoch 71/220\n",
            "12/12 [==============================] - 0s 4ms/step - loss: 6.9258 - mean_squared_error: 6.9258\n",
            "Epoch 72/220\n",
            "12/12 [==============================] - 0s 3ms/step - loss: 6.9537 - mean_squared_error: 6.9537\n",
            "Epoch 73/220\n",
            "12/12 [==============================] - 0s 3ms/step - loss: 6.9442 - mean_squared_error: 6.9442\n",
            "Epoch 74/220\n",
            "12/12 [==============================] - 0s 5ms/step - loss: 6.9652 - mean_squared_error: 6.9652\n",
            "Epoch 75/220\n",
            "12/12 [==============================] - 0s 3ms/step - loss: 6.9236 - mean_squared_error: 6.9236\n",
            "Epoch 76/220\n",
            "12/12 [==============================] - 0s 3ms/step - loss: 6.9775 - mean_squared_error: 6.9775\n",
            "Epoch 77/220\n",
            "12/12 [==============================] - 0s 3ms/step - loss: 6.8539 - mean_squared_error: 6.8539\n",
            "Epoch 78/220\n",
            "12/12 [==============================] - 0s 3ms/step - loss: 6.9352 - mean_squared_error: 6.9352\n",
            "Epoch 79/220\n",
            "12/12 [==============================] - 0s 3ms/step - loss: 6.8873 - mean_squared_error: 6.8873\n",
            "Epoch 80/220\n",
            "12/12 [==============================] - 0s 4ms/step - loss: 6.8447 - mean_squared_error: 6.8447\n",
            "Epoch 81/220\n",
            "12/12 [==============================] - 0s 3ms/step - loss: 6.9907 - mean_squared_error: 6.9907\n",
            "Epoch 82/220\n",
            "12/12 [==============================] - 0s 3ms/step - loss: 6.8560 - mean_squared_error: 6.8560\n",
            "Epoch 83/220\n",
            "12/12 [==============================] - 0s 4ms/step - loss: 6.8752 - mean_squared_error: 6.8752\n",
            "Epoch 84/220\n",
            "12/12 [==============================] - 0s 3ms/step - loss: 6.8185 - mean_squared_error: 6.8185\n",
            "Epoch 85/220\n",
            "12/12 [==============================] - 0s 3ms/step - loss: 6.8076 - mean_squared_error: 6.8076\n",
            "Epoch 86/220\n",
            "12/12 [==============================] - 0s 3ms/step - loss: 6.8123 - mean_squared_error: 6.8123\n",
            "Epoch 87/220\n",
            "12/12 [==============================] - 0s 3ms/step - loss: 6.8135 - mean_squared_error: 6.8135\n",
            "Epoch 88/220\n",
            "12/12 [==============================] - 0s 3ms/step - loss: 6.7890 - mean_squared_error: 6.7890\n",
            "Epoch 89/220\n",
            "12/12 [==============================] - 0s 3ms/step - loss: 6.7655 - mean_squared_error: 6.7655\n",
            "Epoch 90/220\n",
            "12/12 [==============================] - 0s 3ms/step - loss: 6.7076 - mean_squared_error: 6.7076\n",
            "Epoch 91/220\n",
            "12/12 [==============================] - 0s 3ms/step - loss: 6.9222 - mean_squared_error: 6.9222\n",
            "Epoch 92/220\n",
            "12/12 [==============================] - 0s 3ms/step - loss: 6.8359 - mean_squared_error: 6.8359\n",
            "Epoch 93/220\n",
            "12/12 [==============================] - 0s 3ms/step - loss: 6.7303 - mean_squared_error: 6.7303\n",
            "Epoch 94/220\n",
            "12/12 [==============================] - 0s 3ms/step - loss: 6.7027 - mean_squared_error: 6.7027\n",
            "Epoch 95/220\n",
            "12/12 [==============================] - 0s 4ms/step - loss: 6.6731 - mean_squared_error: 6.6731\n",
            "Epoch 96/220\n",
            "12/12 [==============================] - 0s 3ms/step - loss: 6.7101 - mean_squared_error: 6.7101\n",
            "Epoch 97/220\n",
            "12/12 [==============================] - 0s 3ms/step - loss: 6.6506 - mean_squared_error: 6.6506\n",
            "Epoch 98/220\n",
            "12/12 [==============================] - 0s 3ms/step - loss: 6.7343 - mean_squared_error: 6.7343\n",
            "Epoch 99/220\n",
            "12/12 [==============================] - 0s 3ms/step - loss: 6.7677 - mean_squared_error: 6.7677\n",
            "Epoch 100/220\n",
            "12/12 [==============================] - 0s 3ms/step - loss: 6.6590 - mean_squared_error: 6.6590\n",
            "Epoch 101/220\n",
            "12/12 [==============================] - 0s 4ms/step - loss: 6.6926 - mean_squared_error: 6.6926\n",
            "Epoch 102/220\n",
            "12/12 [==============================] - 0s 3ms/step - loss: 6.6517 - mean_squared_error: 6.6517\n",
            "Epoch 103/220\n",
            "12/12 [==============================] - 0s 4ms/step - loss: 6.6332 - mean_squared_error: 6.6332\n",
            "Epoch 104/220\n",
            "12/12 [==============================] - 0s 3ms/step - loss: 6.6014 - mean_squared_error: 6.6014\n",
            "Epoch 105/220\n",
            "12/12 [==============================] - 0s 3ms/step - loss: 6.6419 - mean_squared_error: 6.6419\n",
            "Epoch 106/220\n",
            "12/12 [==============================] - 0s 3ms/step - loss: 6.7201 - mean_squared_error: 6.7201\n",
            "Epoch 107/220\n",
            "12/12 [==============================] - 0s 3ms/step - loss: 6.6016 - mean_squared_error: 6.6016\n",
            "Epoch 108/220\n",
            "12/12 [==============================] - 0s 3ms/step - loss: 6.7476 - mean_squared_error: 6.7476\n",
            "Epoch 109/220\n",
            "12/12 [==============================] - 0s 4ms/step - loss: 6.5451 - mean_squared_error: 6.5451\n",
            "Epoch 110/220\n",
            "12/12 [==============================] - 0s 3ms/step - loss: 6.5882 - mean_squared_error: 6.5882\n",
            "Epoch 111/220\n",
            "12/12 [==============================] - 0s 3ms/step - loss: 6.5757 - mean_squared_error: 6.5757\n",
            "Epoch 112/220\n",
            "12/12 [==============================] - 0s 3ms/step - loss: 6.5461 - mean_squared_error: 6.5461\n",
            "Epoch 113/220\n",
            "12/12 [==============================] - 0s 3ms/step - loss: 6.4774 - mean_squared_error: 6.4774\n",
            "Epoch 114/220\n",
            "12/12 [==============================] - 0s 3ms/step - loss: 6.5550 - mean_squared_error: 6.5550\n",
            "Epoch 115/220\n",
            "12/12 [==============================] - 0s 3ms/step - loss: 6.5874 - mean_squared_error: 6.5874\n",
            "Epoch 116/220\n",
            "12/12 [==============================] - 0s 3ms/step - loss: 6.5743 - mean_squared_error: 6.5743\n",
            "Epoch 117/220\n",
            "12/12 [==============================] - 0s 3ms/step - loss: 6.4690 - mean_squared_error: 6.4690\n",
            "Epoch 118/220\n",
            "12/12 [==============================] - 0s 3ms/step - loss: 6.4569 - mean_squared_error: 6.4569\n",
            "Epoch 119/220\n",
            "12/12 [==============================] - 0s 3ms/step - loss: 6.5349 - mean_squared_error: 6.5349\n",
            "Epoch 120/220\n",
            "12/12 [==============================] - 0s 4ms/step - loss: 6.4342 - mean_squared_error: 6.4342\n",
            "Epoch 121/220\n",
            "12/12 [==============================] - 0s 3ms/step - loss: 6.4583 - mean_squared_error: 6.4583\n",
            "Epoch 122/220\n",
            "12/12 [==============================] - 0s 3ms/step - loss: 6.4400 - mean_squared_error: 6.4400\n",
            "Epoch 123/220\n",
            "12/12 [==============================] - 0s 3ms/step - loss: 6.4162 - mean_squared_error: 6.4162\n",
            "Epoch 124/220\n",
            "12/12 [==============================] - 0s 3ms/step - loss: 6.4768 - mean_squared_error: 6.4768\n",
            "Epoch 125/220\n",
            "12/12 [==============================] - 0s 4ms/step - loss: 6.4739 - mean_squared_error: 6.4739\n",
            "Epoch 126/220\n",
            "12/12 [==============================] - 0s 3ms/step - loss: 6.4374 - mean_squared_error: 6.4374\n",
            "Epoch 127/220\n",
            "12/12 [==============================] - 0s 3ms/step - loss: 6.4462 - mean_squared_error: 6.4462\n",
            "Epoch 128/220\n",
            "12/12 [==============================] - 0s 3ms/step - loss: 6.3583 - mean_squared_error: 6.3583\n",
            "Epoch 129/220\n",
            "12/12 [==============================] - 0s 3ms/step - loss: 6.3474 - mean_squared_error: 6.3474\n",
            "Epoch 130/220\n",
            "12/12 [==============================] - 0s 3ms/step - loss: 6.4151 - mean_squared_error: 6.4151\n",
            "Epoch 131/220\n",
            "12/12 [==============================] - 0s 3ms/step - loss: 6.5041 - mean_squared_error: 6.5041\n",
            "Epoch 132/220\n",
            "12/12 [==============================] - 0s 3ms/step - loss: 6.5266 - mean_squared_error: 6.5266\n",
            "Epoch 133/220\n",
            "12/12 [==============================] - 0s 3ms/step - loss: 6.6327 - mean_squared_error: 6.6327\n",
            "Epoch 134/220\n",
            "12/12 [==============================] - 0s 3ms/step - loss: 6.3765 - mean_squared_error: 6.3765\n",
            "Epoch 135/220\n",
            "12/12 [==============================] - 0s 4ms/step - loss: 6.3567 - mean_squared_error: 6.3567\n",
            "Epoch 136/220\n",
            "12/12 [==============================] - 0s 3ms/step - loss: 6.4851 - mean_squared_error: 6.4851\n",
            "Epoch 137/220\n",
            "12/12 [==============================] - 0s 3ms/step - loss: 6.3991 - mean_squared_error: 6.3991\n",
            "Epoch 138/220\n",
            "12/12 [==============================] - 0s 4ms/step - loss: 6.4530 - mean_squared_error: 6.4530\n",
            "Epoch 139/220\n",
            "12/12 [==============================] - 0s 3ms/step - loss: 6.1904 - mean_squared_error: 6.1904\n",
            "Epoch 140/220\n",
            "12/12 [==============================] - 0s 3ms/step - loss: 6.4699 - mean_squared_error: 6.4699\n",
            "Epoch 141/220\n",
            "12/12 [==============================] - 0s 4ms/step - loss: 6.4194 - mean_squared_error: 6.4194\n",
            "Epoch 142/220\n",
            "12/12 [==============================] - 0s 4ms/step - loss: 6.3202 - mean_squared_error: 6.3202\n",
            "Epoch 143/220\n",
            "12/12 [==============================] - 0s 3ms/step - loss: 6.1851 - mean_squared_error: 6.1851\n",
            "Epoch 144/220\n",
            "12/12 [==============================] - 0s 3ms/step - loss: 6.6588 - mean_squared_error: 6.6588\n",
            "Epoch 145/220\n",
            "12/12 [==============================] - 0s 3ms/step - loss: 6.2114 - mean_squared_error: 6.2114\n",
            "Epoch 146/220\n",
            "12/12 [==============================] - 0s 3ms/step - loss: 6.2247 - mean_squared_error: 6.2247\n",
            "Epoch 147/220\n",
            "12/12 [==============================] - 0s 3ms/step - loss: 6.2583 - mean_squared_error: 6.2583\n",
            "Epoch 148/220\n",
            "12/12 [==============================] - 0s 3ms/step - loss: 6.2496 - mean_squared_error: 6.2496\n",
            "Epoch 149/220\n",
            "12/12 [==============================] - 0s 3ms/step - loss: 6.1576 - mean_squared_error: 6.1576\n",
            "Epoch 150/220\n",
            "12/12 [==============================] - 0s 3ms/step - loss: 6.1526 - mean_squared_error: 6.1526\n",
            "Epoch 151/220\n",
            "12/12 [==============================] - 0s 3ms/step - loss: 6.1973 - mean_squared_error: 6.1973\n",
            "Epoch 152/220\n",
            "12/12 [==============================] - 0s 3ms/step - loss: 6.2138 - mean_squared_error: 6.2138\n",
            "Epoch 153/220\n",
            "12/12 [==============================] - 0s 3ms/step - loss: 6.1523 - mean_squared_error: 6.1523\n",
            "Epoch 154/220\n",
            "12/12 [==============================] - 0s 3ms/step - loss: 6.1511 - mean_squared_error: 6.1511\n",
            "Epoch 155/220\n",
            "12/12 [==============================] - 0s 4ms/step - loss: 6.2260 - mean_squared_error: 6.2260\n",
            "Epoch 156/220\n",
            "12/12 [==============================] - 0s 3ms/step - loss: 6.1739 - mean_squared_error: 6.1739\n",
            "Epoch 157/220\n",
            "12/12 [==============================] - 0s 3ms/step - loss: 6.1999 - mean_squared_error: 6.1999\n",
            "Epoch 158/220\n",
            "12/12 [==============================] - 0s 3ms/step - loss: 6.0655 - mean_squared_error: 6.0655\n",
            "Epoch 159/220\n",
            "12/12 [==============================] - 0s 3ms/step - loss: 6.2008 - mean_squared_error: 6.2008\n",
            "Epoch 160/220\n",
            "12/12 [==============================] - 0s 3ms/step - loss: 6.0410 - mean_squared_error: 6.0410\n",
            "Epoch 161/220\n",
            "12/12 [==============================] - 0s 3ms/step - loss: 6.0644 - mean_squared_error: 6.0644\n",
            "Epoch 162/220\n",
            "12/12 [==============================] - 0s 4ms/step - loss: 6.0707 - mean_squared_error: 6.0707\n",
            "Epoch 163/220\n",
            "12/12 [==============================] - 0s 3ms/step - loss: 6.2695 - mean_squared_error: 6.2695\n",
            "Epoch 164/220\n",
            "12/12 [==============================] - 0s 3ms/step - loss: 6.1764 - mean_squared_error: 6.1764\n",
            "Epoch 165/220\n",
            "12/12 [==============================] - 0s 3ms/step - loss: 6.3153 - mean_squared_error: 6.3153\n",
            "Epoch 166/220\n",
            "12/12 [==============================] - 0s 3ms/step - loss: 6.4131 - mean_squared_error: 6.4131\n",
            "Epoch 167/220\n",
            "12/12 [==============================] - 0s 4ms/step - loss: 6.1020 - mean_squared_error: 6.1020\n",
            "Epoch 168/220\n",
            "12/12 [==============================] - 0s 3ms/step - loss: 6.2173 - mean_squared_error: 6.2173\n",
            "Epoch 169/220\n",
            "12/12 [==============================] - 0s 3ms/step - loss: 6.0727 - mean_squared_error: 6.0727\n",
            "Epoch 170/220\n",
            "12/12 [==============================] - 0s 4ms/step - loss: 6.2157 - mean_squared_error: 6.2157\n",
            "Epoch 171/220\n",
            "12/12 [==============================] - 0s 3ms/step - loss: 5.9309 - mean_squared_error: 5.9309\n",
            "Epoch 172/220\n",
            "12/12 [==============================] - 0s 3ms/step - loss: 5.9375 - mean_squared_error: 5.9375\n",
            "Epoch 173/220\n",
            "12/12 [==============================] - 0s 3ms/step - loss: 5.9290 - mean_squared_error: 5.9290\n",
            "Epoch 174/220\n",
            "12/12 [==============================] - 0s 4ms/step - loss: 6.1714 - mean_squared_error: 6.1714\n",
            "Epoch 175/220\n",
            "12/12 [==============================] - 0s 3ms/step - loss: 6.0697 - mean_squared_error: 6.0697\n",
            "Epoch 176/220\n",
            "12/12 [==============================] - 0s 3ms/step - loss: 6.1011 - mean_squared_error: 6.1011\n",
            "Epoch 177/220\n",
            "12/12 [==============================] - 0s 3ms/step - loss: 5.9678 - mean_squared_error: 5.9678\n",
            "Epoch 178/220\n",
            "12/12 [==============================] - 0s 3ms/step - loss: 5.9082 - mean_squared_error: 5.9082\n",
            "Epoch 179/220\n",
            "12/12 [==============================] - 0s 5ms/step - loss: 6.1308 - mean_squared_error: 6.1308\n",
            "Epoch 180/220\n",
            "12/12 [==============================] - 0s 4ms/step - loss: 5.9248 - mean_squared_error: 5.9248\n",
            "Epoch 181/220\n",
            "12/12 [==============================] - 0s 3ms/step - loss: 6.0375 - mean_squared_error: 6.0375\n",
            "Epoch 182/220\n",
            "12/12 [==============================] - 0s 6ms/step - loss: 5.9465 - mean_squared_error: 5.9465\n",
            "Epoch 183/220\n",
            "12/12 [==============================] - 0s 6ms/step - loss: 5.9243 - mean_squared_error: 5.9243\n",
            "Epoch 184/220\n",
            "12/12 [==============================] - 0s 7ms/step - loss: 5.8756 - mean_squared_error: 5.8756\n",
            "Epoch 185/220\n",
            "12/12 [==============================] - 0s 6ms/step - loss: 5.8525 - mean_squared_error: 5.8525\n",
            "Epoch 186/220\n",
            "12/12 [==============================] - 0s 6ms/step - loss: 5.9824 - mean_squared_error: 5.9824\n",
            "Epoch 187/220\n",
            "12/12 [==============================] - 0s 6ms/step - loss: 5.8626 - mean_squared_error: 5.8626\n",
            "Epoch 188/220\n",
            "12/12 [==============================] - 0s 5ms/step - loss: 6.0198 - mean_squared_error: 6.0198\n",
            "Epoch 189/220\n",
            "12/12 [==============================] - 0s 6ms/step - loss: 5.8883 - mean_squared_error: 5.8883\n",
            "Epoch 190/220\n",
            "12/12 [==============================] - 0s 5ms/step - loss: 5.9524 - mean_squared_error: 5.9524\n",
            "Epoch 191/220\n",
            "12/12 [==============================] - 0s 6ms/step - loss: 5.9565 - mean_squared_error: 5.9565\n",
            "Epoch 192/220\n",
            "12/12 [==============================] - 0s 5ms/step - loss: 5.9163 - mean_squared_error: 5.9163\n",
            "Epoch 193/220\n",
            "12/12 [==============================] - 0s 6ms/step - loss: 5.8087 - mean_squared_error: 5.8087\n",
            "Epoch 194/220\n",
            "12/12 [==============================] - 0s 6ms/step - loss: 5.9037 - mean_squared_error: 5.9037\n",
            "Epoch 195/220\n",
            "12/12 [==============================] - 0s 6ms/step - loss: 5.8568 - mean_squared_error: 5.8568\n",
            "Epoch 196/220\n",
            "12/12 [==============================] - 0s 6ms/step - loss: 5.7882 - mean_squared_error: 5.7882\n",
            "Epoch 197/220\n",
            "12/12 [==============================] - 0s 6ms/step - loss: 5.7401 - mean_squared_error: 5.7401\n",
            "Epoch 198/220\n",
            "12/12 [==============================] - 0s 5ms/step - loss: 5.7364 - mean_squared_error: 5.7364\n",
            "Epoch 199/220\n",
            "12/12 [==============================] - 0s 5ms/step - loss: 6.1420 - mean_squared_error: 6.1420\n",
            "Epoch 200/220\n",
            "12/12 [==============================] - 0s 5ms/step - loss: 5.9250 - mean_squared_error: 5.9250\n",
            "Epoch 201/220\n",
            "12/12 [==============================] - 0s 6ms/step - loss: 5.9577 - mean_squared_error: 5.9577\n",
            "Epoch 202/220\n",
            "12/12 [==============================] - 0s 6ms/step - loss: 5.8547 - mean_squared_error: 5.8547\n",
            "Epoch 203/220\n",
            "12/12 [==============================] - 0s 6ms/step - loss: 5.7797 - mean_squared_error: 5.7797\n",
            "Epoch 204/220\n",
            "12/12 [==============================] - 0s 6ms/step - loss: 5.7325 - mean_squared_error: 5.7325\n",
            "Epoch 205/220\n",
            "12/12 [==============================] - 0s 6ms/step - loss: 5.7994 - mean_squared_error: 5.7994\n",
            "Epoch 206/220\n",
            "12/12 [==============================] - 0s 6ms/step - loss: 5.7064 - mean_squared_error: 5.7064\n",
            "Epoch 207/220\n",
            "12/12 [==============================] - 0s 6ms/step - loss: 5.7870 - mean_squared_error: 5.7870\n",
            "Epoch 208/220\n",
            "12/12 [==============================] - 0s 6ms/step - loss: 5.7288 - mean_squared_error: 5.7288\n",
            "Epoch 209/220\n",
            "12/12 [==============================] - 0s 6ms/step - loss: 5.6717 - mean_squared_error: 5.6717\n",
            "Epoch 210/220\n",
            "12/12 [==============================] - 0s 5ms/step - loss: 5.6857 - mean_squared_error: 5.6857\n",
            "Epoch 211/220\n",
            "12/12 [==============================] - 0s 5ms/step - loss: 5.8039 - mean_squared_error: 5.8039\n",
            "Epoch 212/220\n",
            "12/12 [==============================] - 0s 5ms/step - loss: 5.8353 - mean_squared_error: 5.8353\n",
            "Epoch 213/220\n",
            "12/12 [==============================] - 0s 5ms/step - loss: 5.6802 - mean_squared_error: 5.6802\n",
            "Epoch 214/220\n",
            "12/12 [==============================] - 0s 5ms/step - loss: 5.7436 - mean_squared_error: 5.7436\n",
            "Epoch 215/220\n",
            "12/12 [==============================] - 0s 5ms/step - loss: 5.6988 - mean_squared_error: 5.6988\n",
            "Epoch 216/220\n",
            "12/12 [==============================] - 0s 6ms/step - loss: 5.6784 - mean_squared_error: 5.6784\n",
            "Epoch 217/220\n",
            "12/12 [==============================] - 0s 5ms/step - loss: 5.6303 - mean_squared_error: 5.6303\n",
            "Epoch 218/220\n",
            "12/12 [==============================] - 0s 5ms/step - loss: 5.7207 - mean_squared_error: 5.7207\n",
            "Epoch 219/220\n",
            "12/12 [==============================] - 0s 5ms/step - loss: 6.3437 - mean_squared_error: 6.3437\n",
            "Epoch 220/220\n",
            "12/12 [==============================] - 0s 5ms/step - loss: 5.6963 - mean_squared_error: 5.6963\n"
          ]
        },
        {
          "output_type": "execute_result",
          "data": {
            "text/plain": [
              "<keras.callbacks.History at 0x7f8234bc84f0>"
            ]
          },
          "metadata": {},
          "execution_count": 137
        }
      ]
    },
    {
      "cell_type": "code",
      "source": [
        "model.summary()"
      ],
      "metadata": {
        "colab": {
          "base_uri": "https://localhost:8080/"
        },
        "id": "kJdK3ZNZ84ss",
        "outputId": "0e44622e-27b7-4c07-8fbd-ad8ee992513e"
      },
      "execution_count": 138,
      "outputs": [
        {
          "output_type": "stream",
          "name": "stdout",
          "text": [
            "Model: \"sequential_4\"\n",
            "_________________________________________________________________\n",
            " Layer (type)                Output Shape              Param #   \n",
            "=================================================================\n",
            " dense_15 (Dense)            (None, 9)                 126       \n",
            "                                                                 \n",
            " dense_16 (Dense)            (None, 16)                160       \n",
            "                                                                 \n",
            " dense_17 (Dense)            (None, 16)                272       \n",
            "                                                                 \n",
            " dense_18 (Dense)            (None, 8)                 136       \n",
            "                                                                 \n",
            " dense_19 (Dense)            (None, 1)                 9         \n",
            "                                                                 \n",
            " dense_20 (Dense)            (None, 14)                28        \n",
            "                                                                 \n",
            " dense_21 (Dense)            (None, 26)                390       \n",
            "                                                                 \n",
            " dense_22 (Dense)            (None, 26)                702       \n",
            "                                                                 \n",
            " dense_23 (Dense)            (None, 13)                351       \n",
            "                                                                 \n",
            " dense_24 (Dense)            (None, 1)                 14        \n",
            "                                                                 \n",
            "=================================================================\n",
            "Total params: 2,188\n",
            "Trainable params: 2,188\n",
            "Non-trainable params: 0\n",
            "_________________________________________________________________\n"
          ]
        }
      ]
    },
    {
      "cell_type": "code",
      "source": [
        "y_pred = model.predict(X_test)"
      ],
      "metadata": {
        "colab": {
          "base_uri": "https://localhost:8080/"
        },
        "id": "jxKNZWso9g7m",
        "outputId": "f0e267c4-0a24-4818-da2a-78fa1b068861"
      },
      "execution_count": 139,
      "outputs": [
        {
          "output_type": "stream",
          "name": "stdout",
          "text": [
            "4/4 [==============================] - 0s 3ms/step\n"
          ]
        }
      ]
    },
    {
      "cell_type": "code",
      "source": [
        "from sklearn.metrics import mean_absolute_percentage_error"
      ],
      "metadata": {
        "id": "eWg-BBQd9m-H"
      },
      "execution_count": 142,
      "outputs": []
    },
    {
      "cell_type": "code",
      "source": [
        "mean_absolute_percentage_error(y_test, y_pred)"
      ],
      "metadata": {
        "colab": {
          "base_uri": "https://localhost:8080/"
        },
        "id": "DuyWDskn9ohI",
        "outputId": "72332db8-587a-4c45-e183-91643fa6274f"
      },
      "execution_count": 143,
      "outputs": [
        {
          "output_type": "execute_result",
          "data": {
            "text/plain": [
              "0.13008405542314727"
            ]
          },
          "metadata": {},
          "execution_count": 143
        }
      ]
    },
    {
      "cell_type": "code",
      "source": [],
      "metadata": {
        "id": "KTyw1qbA93M-"
      },
      "execution_count": null,
      "outputs": []
    }
  ]
}