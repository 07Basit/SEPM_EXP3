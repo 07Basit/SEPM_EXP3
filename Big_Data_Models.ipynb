{
  "nbformat": 4,
  "nbformat_minor": 0,
  "metadata": {
    "colab": {
      "provenance": []
    },
    "kernelspec": {
      "name": "python3",
      "display_name": "Python 3"
    },
    "language_info": {
      "name": "python"
    }
  },
  "cells": [
    {
      "cell_type": "markdown",
      "source": [
        "# Regression"
      ],
      "metadata": {
        "id": "nJwz4aehxyFl"
      }
    },
    {
      "cell_type": "code",
      "execution_count": 1,
      "metadata": {
        "colab": {
          "base_uri": "https://localhost:8080/"
        },
        "id": "89upTK1XxuM5",
        "outputId": "24cfa3bc-077a-4134-94ea-ec90e4c8892d"
      },
      "outputs": [
        {
          "output_type": "stream",
          "name": "stdout",
          "text": [
            "Looking in indexes: https://pypi.org/simple, https://us-python.pkg.dev/colab-wheels/public/simple/\n",
            "Requirement already satisfied: pyspark in /usr/local/lib/python3.8/dist-packages (3.3.2)\n",
            "Requirement already satisfied: py4j==0.10.9.5 in /usr/local/lib/python3.8/dist-packages (from pyspark) (0.10.9.5)\n"
          ]
        }
      ],
      "source": [
        "!pip install pyspark"
      ]
    },
    {
      "cell_type": "code",
      "source": [
        "import pandas as pd\n",
        "import pyspark"
      ],
      "metadata": {
        "id": "WdI-9eRHx_Lo"
      },
      "execution_count": 2,
      "outputs": []
    },
    {
      "cell_type": "code",
      "source": [
        "from pyspark.sql import SparkSession\n",
        "spark = SparkSession.builder.master('local[*]').appName('Live').getOrCreate()"
      ],
      "metadata": {
        "id": "F5a_oV4Jyq22"
      },
      "execution_count": 3,
      "outputs": []
    },
    {
      "cell_type": "code",
      "source": [
        "spark"
      ],
      "metadata": {
        "colab": {
          "base_uri": "https://localhost:8080/",
          "height": 216
        },
        "id": "8yM0RWEPyJKG",
        "outputId": "8522f087-5e9a-4aff-dcf4-47f721a85563"
      },
      "execution_count": 4,
      "outputs": [
        {
          "output_type": "execute_result",
          "data": {
            "text/plain": [
              "<pyspark.sql.session.SparkSession at 0x7fe5237528e0>"
            ],
            "text/html": [
              "\n",
              "            <div>\n",
              "                <p><b>SparkSession - in-memory</b></p>\n",
              "                \n",
              "        <div>\n",
              "            <p><b>SparkContext</b></p>\n",
              "\n",
              "            <p><a href=\"http://5438743f7c06:4040\">Spark UI</a></p>\n",
              "\n",
              "            <dl>\n",
              "              <dt>Version</dt>\n",
              "                <dd><code>v3.3.2</code></dd>\n",
              "              <dt>Master</dt>\n",
              "                <dd><code>local[*]</code></dd>\n",
              "              <dt>AppName</dt>\n",
              "                <dd><code>Live</code></dd>\n",
              "            </dl>\n",
              "        </div>\n",
              "        \n",
              "            </div>\n",
              "        "
            ]
          },
          "metadata": {},
          "execution_count": 4
        }
      ]
    },
    {
      "cell_type": "code",
      "source": [
        "df = pd.read_csv('https://github.com/YBIFoundation/Dataset/raw/main/Boston.csv')\n",
        "df.to_csv('house')"
      ],
      "metadata": {
        "id": "8744mx0myJGh"
      },
      "execution_count": 5,
      "outputs": []
    },
    {
      "cell_type": "code",
      "source": [
        "house = spark.read.csv('/content/house', header=True, inferSchema=True)"
      ],
      "metadata": {
        "id": "A0iqvT9NzJaH"
      },
      "execution_count": 6,
      "outputs": []
    },
    {
      "cell_type": "code",
      "source": [
        "house.show()"
      ],
      "metadata": {
        "colab": {
          "base_uri": "https://localhost:8080/"
        },
        "id": "F4GLHOj-zYx2",
        "outputId": "b09e9bc2-6b63-4422-b72f-29d25f3d7d84"
      },
      "execution_count": 7,
      "outputs": [
        {
          "output_type": "stream",
          "name": "stdout",
          "text": [
            "+---+------------------+----+-----+----+-----+-----+-----+------+---+-----+-------+------+-----+----+\n",
            "|_c0|              CRIM|  ZN|INDUS|CHAS|   NX|   RM|  AGE|   DIS|RAD|  TAX|PTRATIO|     B|LSTAT|MEDV|\n",
            "+---+------------------+----+-----+----+-----+-----+-----+------+---+-----+-------+------+-----+----+\n",
            "|  0|           0.00632|18.0| 2.31|   0|0.538|6.575| 65.2|  4.09|  1|296.0|   15.3| 396.9| 4.98|24.0|\n",
            "|  1|           0.02731| 0.0| 7.07|   0|0.469|6.421| 78.9|4.9671|  2|242.0|   17.8| 396.9| 9.14|21.6|\n",
            "|  2|           0.02729| 0.0| 7.07|   0|0.469|7.185| 61.1|4.9671|  2|242.0|   17.8|392.83| 4.03|34.7|\n",
            "|  3|0.0323699999999999| 0.0| 2.18|   0|0.458|6.998| 45.8|6.0622|  3|222.0|   18.7|394.63| 2.94|33.4|\n",
            "|  4|           0.06905| 0.0| 2.18|   0|0.458|7.147| 54.2|6.0622|  3|222.0|   18.7| 396.9| 5.33|36.2|\n",
            "|  5|           0.02985| 0.0| 2.18|   0|0.458| 6.43| 58.7|6.0622|  3|222.0|   18.7|394.12| 5.21|28.7|\n",
            "|  6|           0.08829|12.5| 7.87|   0|0.524|6.012| 66.6|5.5605|  5|311.0|   15.2| 395.6|12.43|22.9|\n",
            "|  7|           0.14455|12.5| 7.87|   0|0.524|6.172| 96.1|5.9505|  5|311.0|   15.2| 396.9|19.15|27.1|\n",
            "|  8|           0.21124|12.5| 7.87|   0|0.524|5.631|100.0|6.0821|  5|311.0|   15.2|386.63|29.93|16.5|\n",
            "|  9|           0.17004|12.5| 7.87|   0|0.524|6.004| 85.9|6.5921|  5|311.0|   15.2|386.71| 17.1|18.9|\n",
            "| 10|           0.22489|12.5| 7.87|   0|0.524|6.377| 94.3|6.3467|  5|311.0|   15.2|392.52|20.45|15.0|\n",
            "| 11|           0.11747|12.5| 7.87|   0|0.524|6.009| 82.9|6.2267|  5|311.0|   15.2| 396.9|13.27|18.9|\n",
            "| 12|           0.09378|12.5| 7.87|   0|0.524|5.889| 39.0|5.4509|  5|311.0|   15.2| 390.5|15.71|21.7|\n",
            "| 13|           0.62976| 0.0| 8.14|   0|0.538|5.949| 61.8|4.7075|  4|307.0|   21.0| 396.9| 8.26|20.4|\n",
            "| 14|0.6379600000000001| 0.0| 8.14|   0|0.538|6.096| 84.5|4.4619|  4|307.0|   21.0|380.02|10.26|18.2|\n",
            "| 15|           0.62739| 0.0| 8.14|   0|0.538|5.834| 56.5|4.4986|  4|307.0|   21.0|395.62| 8.47|19.9|\n",
            "| 16|           1.05393| 0.0| 8.14|   0|0.538|5.935| 29.3|4.4986|  4|307.0|   21.0|386.85| 6.58|23.1|\n",
            "| 17|            0.7842| 0.0| 8.14|   0|0.538| 5.99| 81.7|4.2579|  4|307.0|   21.0|386.75|14.67|17.5|\n",
            "| 18|           0.80271| 0.0| 8.14|   0|0.538|5.456| 36.6|3.7965|  4|307.0|   21.0|288.99|11.69|20.2|\n",
            "| 19|            0.7258| 0.0| 8.14|   0|0.538|5.727| 69.5|3.7965|  4|307.0|   21.0|390.95|11.28|18.2|\n",
            "+---+------------------+----+-----+----+-----+-----+-----+------+---+-----+-------+------+-----+----+\n",
            "only showing top 20 rows\n",
            "\n"
          ]
        }
      ]
    },
    {
      "cell_type": "code",
      "source": [
        "house1 = spark.createDataFrame(df)"
      ],
      "metadata": {
        "id": "GhidKUJVzaPX"
      },
      "execution_count": 8,
      "outputs": []
    },
    {
      "cell_type": "code",
      "source": [
        "house1.show()"
      ],
      "metadata": {
        "colab": {
          "base_uri": "https://localhost:8080/"
        },
        "id": "vzLHPdpU0UHF",
        "outputId": "5caa5cdf-29b5-40ee-a60c-1084b2c461f4"
      },
      "execution_count": 9,
      "outputs": [
        {
          "output_type": "stream",
          "name": "stdout",
          "text": [
            "+------------------+----+-----+----+-----+-----+-----+------+---+-----+-------+------+-----+----+\n",
            "|              CRIM|  ZN|INDUS|CHAS|   NX|   RM|  AGE|   DIS|RAD|  TAX|PTRATIO|     B|LSTAT|MEDV|\n",
            "+------------------+----+-----+----+-----+-----+-----+------+---+-----+-------+------+-----+----+\n",
            "|           0.00632|18.0| 2.31|   0|0.538|6.575| 65.2|  4.09|  1|296.0|   15.3| 396.9| 4.98|24.0|\n",
            "|           0.02731| 0.0| 7.07|   0|0.469|6.421| 78.9|4.9671|  2|242.0|   17.8| 396.9| 9.14|21.6|\n",
            "|           0.02729| 0.0| 7.07|   0|0.469|7.185| 61.1|4.9671|  2|242.0|   17.8|392.83| 4.03|34.7|\n",
            "|0.0323699999999999| 0.0| 2.18|   0|0.458|6.998| 45.8|6.0622|  3|222.0|   18.7|394.63| 2.94|33.4|\n",
            "|           0.06905| 0.0| 2.18|   0|0.458|7.147| 54.2|6.0622|  3|222.0|   18.7| 396.9| 5.33|36.2|\n",
            "|           0.02985| 0.0| 2.18|   0|0.458| 6.43| 58.7|6.0622|  3|222.0|   18.7|394.12| 5.21|28.7|\n",
            "|           0.08829|12.5| 7.87|   0|0.524|6.012| 66.6|5.5605|  5|311.0|   15.2| 395.6|12.43|22.9|\n",
            "|           0.14455|12.5| 7.87|   0|0.524|6.172| 96.1|5.9505|  5|311.0|   15.2| 396.9|19.15|27.1|\n",
            "|           0.21124|12.5| 7.87|   0|0.524|5.631|100.0|6.0821|  5|311.0|   15.2|386.63|29.93|16.5|\n",
            "|           0.17004|12.5| 7.87|   0|0.524|6.004| 85.9|6.5921|  5|311.0|   15.2|386.71| 17.1|18.9|\n",
            "|           0.22489|12.5| 7.87|   0|0.524|6.377| 94.3|6.3467|  5|311.0|   15.2|392.52|20.45|15.0|\n",
            "|           0.11747|12.5| 7.87|   0|0.524|6.009| 82.9|6.2267|  5|311.0|   15.2| 396.9|13.27|18.9|\n",
            "|           0.09378|12.5| 7.87|   0|0.524|5.889| 39.0|5.4509|  5|311.0|   15.2| 390.5|15.71|21.7|\n",
            "|           0.62976| 0.0| 8.14|   0|0.538|5.949| 61.8|4.7075|  4|307.0|   21.0| 396.9| 8.26|20.4|\n",
            "|0.6379600000000001| 0.0| 8.14|   0|0.538|6.096| 84.5|4.4619|  4|307.0|   21.0|380.02|10.26|18.2|\n",
            "|           0.62739| 0.0| 8.14|   0|0.538|5.834| 56.5|4.4986|  4|307.0|   21.0|395.62| 8.47|19.9|\n",
            "|           1.05393| 0.0| 8.14|   0|0.538|5.935| 29.3|4.4986|  4|307.0|   21.0|386.85| 6.58|23.1|\n",
            "|            0.7842| 0.0| 8.14|   0|0.538| 5.99| 81.7|4.2579|  4|307.0|   21.0|386.75|14.67|17.5|\n",
            "|           0.80271| 0.0| 8.14|   0|0.538|5.456| 36.6|3.7965|  4|307.0|   21.0|288.99|11.69|20.2|\n",
            "|            0.7258| 0.0| 8.14|   0|0.538|5.727| 69.5|3.7965|  4|307.0|   21.0|390.95|11.28|18.2|\n",
            "+------------------+----+-----+----+-----+-----+-----+------+---+-----+-------+------+-----+----+\n",
            "only showing top 20 rows\n",
            "\n"
          ]
        }
      ]
    },
    {
      "cell_type": "code",
      "source": [
        "house1.columns"
      ],
      "metadata": {
        "colab": {
          "base_uri": "https://localhost:8080/"
        },
        "id": "yjagpw1b0WI9",
        "outputId": "0178ae6c-e420-463d-b681-4530f7dd73dc"
      },
      "execution_count": 10,
      "outputs": [
        {
          "output_type": "execute_result",
          "data": {
            "text/plain": [
              "['CRIM',\n",
              " 'ZN',\n",
              " 'INDUS',\n",
              " 'CHAS',\n",
              " 'NX',\n",
              " 'RM',\n",
              " 'AGE',\n",
              " 'DIS',\n",
              " 'RAD',\n",
              " 'TAX',\n",
              " 'PTRATIO',\n",
              " 'B',\n",
              " 'LSTAT',\n",
              " 'MEDV']"
            ]
          },
          "metadata": {},
          "execution_count": 10
        }
      ]
    },
    {
      "cell_type": "code",
      "source": [
        "from pyspark.ml.feature import VectorAssembler"
      ],
      "metadata": {
        "id": "9-lxXgqN0Yb-"
      },
      "execution_count": 11,
      "outputs": []
    },
    {
      "cell_type": "code",
      "source": [
        "featureassembler = VectorAssembler(inputCols=['CRIM',\n",
        " 'ZN',\n",
        " 'INDUS',\n",
        " 'CHAS',\n",
        " 'NX',\n",
        " 'RM',\n",
        " 'AGE',\n",
        " 'DIS',\n",
        " 'RAD',\n",
        " 'TAX',\n",
        " 'PTRATIO',\n",
        " 'B',\n",
        " 'LSTAT'], outputCol='Features')"
      ],
      "metadata": {
        "id": "UvR-GyHg0kzb"
      },
      "execution_count": 12,
      "outputs": []
    },
    {
      "cell_type": "code",
      "source": [
        "output = featureassembler.transform(house1)"
      ],
      "metadata": {
        "id": "QJFh3OJA031f"
      },
      "execution_count": 13,
      "outputs": []
    },
    {
      "cell_type": "code",
      "source": [
        "output.show()"
      ],
      "metadata": {
        "colab": {
          "base_uri": "https://localhost:8080/"
        },
        "id": "P-vf_0tx1GKq",
        "outputId": "886a7a76-9a1e-432a-8600-2686be8eac6b"
      },
      "execution_count": 14,
      "outputs": [
        {
          "output_type": "stream",
          "name": "stdout",
          "text": [
            "+------------------+----+-----+----+-----+-----+-----+------+---+-----+-------+------+-----+----+--------------------+\n",
            "|              CRIM|  ZN|INDUS|CHAS|   NX|   RM|  AGE|   DIS|RAD|  TAX|PTRATIO|     B|LSTAT|MEDV|            Features|\n",
            "+------------------+----+-----+----+-----+-----+-----+------+---+-----+-------+------+-----+----+--------------------+\n",
            "|           0.00632|18.0| 2.31|   0|0.538|6.575| 65.2|  4.09|  1|296.0|   15.3| 396.9| 4.98|24.0|[0.00632,18.0,2.3...|\n",
            "|           0.02731| 0.0| 7.07|   0|0.469|6.421| 78.9|4.9671|  2|242.0|   17.8| 396.9| 9.14|21.6|[0.02731,0.0,7.07...|\n",
            "|           0.02729| 0.0| 7.07|   0|0.469|7.185| 61.1|4.9671|  2|242.0|   17.8|392.83| 4.03|34.7|[0.02729,0.0,7.07...|\n",
            "|0.0323699999999999| 0.0| 2.18|   0|0.458|6.998| 45.8|6.0622|  3|222.0|   18.7|394.63| 2.94|33.4|[0.03236999999999...|\n",
            "|           0.06905| 0.0| 2.18|   0|0.458|7.147| 54.2|6.0622|  3|222.0|   18.7| 396.9| 5.33|36.2|[0.06905,0.0,2.18...|\n",
            "|           0.02985| 0.0| 2.18|   0|0.458| 6.43| 58.7|6.0622|  3|222.0|   18.7|394.12| 5.21|28.7|[0.02985,0.0,2.18...|\n",
            "|           0.08829|12.5| 7.87|   0|0.524|6.012| 66.6|5.5605|  5|311.0|   15.2| 395.6|12.43|22.9|[0.08829,12.5,7.8...|\n",
            "|           0.14455|12.5| 7.87|   0|0.524|6.172| 96.1|5.9505|  5|311.0|   15.2| 396.9|19.15|27.1|[0.14455,12.5,7.8...|\n",
            "|           0.21124|12.5| 7.87|   0|0.524|5.631|100.0|6.0821|  5|311.0|   15.2|386.63|29.93|16.5|[0.21124,12.5,7.8...|\n",
            "|           0.17004|12.5| 7.87|   0|0.524|6.004| 85.9|6.5921|  5|311.0|   15.2|386.71| 17.1|18.9|[0.17004,12.5,7.8...|\n",
            "|           0.22489|12.5| 7.87|   0|0.524|6.377| 94.3|6.3467|  5|311.0|   15.2|392.52|20.45|15.0|[0.22489,12.5,7.8...|\n",
            "|           0.11747|12.5| 7.87|   0|0.524|6.009| 82.9|6.2267|  5|311.0|   15.2| 396.9|13.27|18.9|[0.11747,12.5,7.8...|\n",
            "|           0.09378|12.5| 7.87|   0|0.524|5.889| 39.0|5.4509|  5|311.0|   15.2| 390.5|15.71|21.7|[0.09378,12.5,7.8...|\n",
            "|           0.62976| 0.0| 8.14|   0|0.538|5.949| 61.8|4.7075|  4|307.0|   21.0| 396.9| 8.26|20.4|[0.62976,0.0,8.14...|\n",
            "|0.6379600000000001| 0.0| 8.14|   0|0.538|6.096| 84.5|4.4619|  4|307.0|   21.0|380.02|10.26|18.2|[0.63796000000000...|\n",
            "|           0.62739| 0.0| 8.14|   0|0.538|5.834| 56.5|4.4986|  4|307.0|   21.0|395.62| 8.47|19.9|[0.62739,0.0,8.14...|\n",
            "|           1.05393| 0.0| 8.14|   0|0.538|5.935| 29.3|4.4986|  4|307.0|   21.0|386.85| 6.58|23.1|[1.05393,0.0,8.14...|\n",
            "|            0.7842| 0.0| 8.14|   0|0.538| 5.99| 81.7|4.2579|  4|307.0|   21.0|386.75|14.67|17.5|[0.7842,0.0,8.14,...|\n",
            "|           0.80271| 0.0| 8.14|   0|0.538|5.456| 36.6|3.7965|  4|307.0|   21.0|288.99|11.69|20.2|[0.80271,0.0,8.14...|\n",
            "|            0.7258| 0.0| 8.14|   0|0.538|5.727| 69.5|3.7965|  4|307.0|   21.0|390.95|11.28|18.2|[0.7258,0.0,8.14,...|\n",
            "+------------------+----+-----+----+-----+-----+-----+------+---+-----+-------+------+-----+----+--------------------+\n",
            "only showing top 20 rows\n",
            "\n"
          ]
        }
      ]
    },
    {
      "cell_type": "code",
      "source": [
        "modeldata = output.select('Features', 'MEDV')"
      ],
      "metadata": {
        "id": "FWwAD3RF1Ld1"
      },
      "execution_count": 15,
      "outputs": []
    },
    {
      "cell_type": "code",
      "source": [
        "modeldata.show()"
      ],
      "metadata": {
        "colab": {
          "base_uri": "https://localhost:8080/"
        },
        "id": "IDed_ei71TED",
        "outputId": "e3e33a87-fc72-4963-edd6-02a26b585d6a"
      },
      "execution_count": 16,
      "outputs": [
        {
          "output_type": "stream",
          "name": "stdout",
          "text": [
            "+--------------------+----+\n",
            "|            Features|MEDV|\n",
            "+--------------------+----+\n",
            "|[0.00632,18.0,2.3...|24.0|\n",
            "|[0.02731,0.0,7.07...|21.6|\n",
            "|[0.02729,0.0,7.07...|34.7|\n",
            "|[0.03236999999999...|33.4|\n",
            "|[0.06905,0.0,2.18...|36.2|\n",
            "|[0.02985,0.0,2.18...|28.7|\n",
            "|[0.08829,12.5,7.8...|22.9|\n",
            "|[0.14455,12.5,7.8...|27.1|\n",
            "|[0.21124,12.5,7.8...|16.5|\n",
            "|[0.17004,12.5,7.8...|18.9|\n",
            "|[0.22489,12.5,7.8...|15.0|\n",
            "|[0.11747,12.5,7.8...|18.9|\n",
            "|[0.09378,12.5,7.8...|21.7|\n",
            "|[0.62976,0.0,8.14...|20.4|\n",
            "|[0.63796000000000...|18.2|\n",
            "|[0.62739,0.0,8.14...|19.9|\n",
            "|[1.05393,0.0,8.14...|23.1|\n",
            "|[0.7842,0.0,8.14,...|17.5|\n",
            "|[0.80271,0.0,8.14...|20.2|\n",
            "|[0.7258,0.0,8.14,...|18.2|\n",
            "+--------------------+----+\n",
            "only showing top 20 rows\n",
            "\n"
          ]
        }
      ]
    },
    {
      "cell_type": "code",
      "source": [
        "train_data, test_data = modeldata.randomSplit([0.8,0.2])"
      ],
      "metadata": {
        "id": "GRzr_udi1Yuv"
      },
      "execution_count": 17,
      "outputs": []
    },
    {
      "cell_type": "code",
      "source": [
        "train_data.show()"
      ],
      "metadata": {
        "colab": {
          "base_uri": "https://localhost:8080/"
        },
        "id": "6Z2oM3vT1ijj",
        "outputId": "d416afbe-ac3d-4924-83be-5ceb8b5267b7"
      },
      "execution_count": 18,
      "outputs": [
        {
          "output_type": "stream",
          "name": "stdout",
          "text": [
            "+--------------------+----+\n",
            "|            Features|MEDV|\n",
            "+--------------------+----+\n",
            "|[0.00632,18.0,2.3...|24.0|\n",
            "|[0.0136,75.0,4.0,...|18.9|\n",
            "|[0.01381,80.0,0.4...|50.0|\n",
            "|[0.01432,100.0,1....|31.6|\n",
            "|[0.01439,60.0,2.9...|29.1|\n",
            "|[0.01778,95.0,1.4...|32.9|\n",
            "|[0.01951,17.5,1.3...|33.0|\n",
            "|[0.02055,85.0,0.7...|24.7|\n",
            "|[0.02729,0.0,7.07...|34.7|\n",
            "|[0.02731,0.0,7.07...|21.6|\n",
            "|[0.02875,28.0,15....|25.0|\n",
            "|[0.0315,95.0,1.47...|34.9|\n",
            "|[0.03236999999999...|33.4|\n",
            "|[0.03358999999999...|34.9|\n",
            "|[0.03445,82.5,2.0...|24.1|\n",
            "|[0.0351,95.0,2.68...|48.5|\n",
            "|[0.03551,25.0,4.8...|22.9|\n",
            "|[0.03584,80.0,3.3...|23.5|\n",
            "|[0.03659,25.0,4.8...|24.8|\n",
            "|[0.03768,80.0,1.5...|34.6|\n",
            "+--------------------+----+\n",
            "only showing top 20 rows\n",
            "\n"
          ]
        }
      ]
    },
    {
      "cell_type": "code",
      "source": [
        "from pyspark.ml.regression import LinearRegression"
      ],
      "metadata": {
        "id": "zkJdFARt1lCy"
      },
      "execution_count": 19,
      "outputs": []
    },
    {
      "cell_type": "code",
      "source": [
        "reg = LinearRegression(featuresCol='Features', labelCol='MEDV')"
      ],
      "metadata": {
        "id": "gNjjwrw21wIP"
      },
      "execution_count": 22,
      "outputs": []
    },
    {
      "cell_type": "code",
      "source": [
        "reg = reg.fit(train_data)"
      ],
      "metadata": {
        "id": "AQ6EPAG91-T_"
      },
      "execution_count": 23,
      "outputs": []
    },
    {
      "cell_type": "code",
      "source": [
        "reg.coefficients"
      ],
      "metadata": {
        "colab": {
          "base_uri": "https://localhost:8080/"
        },
        "id": "8xQuOimS2TOP",
        "outputId": "9bd8e9ac-a111-498a-b11e-18c9ef5e0522"
      },
      "execution_count": 24,
      "outputs": [
        {
          "output_type": "execute_result",
          "data": {
            "text/plain": [
              "DenseVector([-0.115, 0.0448, 0.0124, 1.4287, -20.0047, 3.6533, 0.009, -1.5517, 0.2973, -0.0111, -1.0154, 0.0084, -0.5342])"
            ]
          },
          "metadata": {},
          "execution_count": 24
        }
      ]
    },
    {
      "cell_type": "code",
      "source": [
        "reg.intercept"
      ],
      "metadata": {
        "colab": {
          "base_uri": "https://localhost:8080/"
        },
        "id": "MMzgh1BE3_0r",
        "outputId": "0ac8d83a-1c2e-4c54-a7b5-8262e9f55c51"
      },
      "execution_count": 25,
      "outputs": [
        {
          "output_type": "execute_result",
          "data": {
            "text/plain": [
              "39.76002475634623"
            ]
          },
          "metadata": {},
          "execution_count": 25
        }
      ]
    },
    {
      "cell_type": "code",
      "source": [
        "reg.transform(test_data).show()"
      ],
      "metadata": {
        "colab": {
          "base_uri": "https://localhost:8080/"
        },
        "id": "GAxD4JMB4CnE",
        "outputId": "f3534300-e16b-490a-e380-dae2f4733328"
      },
      "execution_count": 26,
      "outputs": [
        {
          "output_type": "stream",
          "name": "stdout",
          "text": [
            "+--------------------+----+------------------+\n",
            "|            Features|MEDV|        prediction|\n",
            "+--------------------+----+------------------+\n",
            "|[0.01311,90.0,1.2...|35.4|30.469900361721304|\n",
            "|[0.02009,95.0,2.6...|50.0| 42.92028265896906|\n",
            "|[0.02176999999999...|42.3|36.834151393644554|\n",
            "|[0.02187,60.0,2.9...|31.1|31.854225620268096|\n",
            "|[0.02763,75.0,2.9...|30.8| 31.00994197903757|\n",
            "|[0.02985,0.0,2.18...|28.7|25.181963022688628|\n",
            "|[0.04113,25.0,4.8...|28.0|28.175506603542487|\n",
            "|[0.0456,0.0,13.89...|23.3|25.370267321966168|\n",
            "|[0.05646,0.0,12.8...|21.2|21.350140608801382|\n",
            "|[0.0566,0.0,3.41,...|23.6| 30.97798597634793|\n",
            "|[0.0578,0.0,2.46,...|37.2| 32.95657813794401|\n",
            "|[0.07013,0.0,13.8...|28.7|28.516109301723148|\n",
            "|[0.07022,0.0,4.05...|23.2|25.727566438830863|\n",
            "|[0.08014,0.0,5.96...|21.0| 23.00493910530949|\n",
            "|[0.08221,22.0,5.8...|29.6|24.203022946270437|\n",
            "|[0.08387,0.0,12.8...|20.3| 22.49088147552491|\n",
            "|[0.09252,30.0,4.9...|23.3| 28.36510211319819|\n",
            "|[0.10153,0.0,12.8...|20.0|23.287286305737528|\n",
            "|[0.11747,12.5,7.8...|18.9|21.781520089739423|\n",
            "|[0.12204,0.0,2.89...|28.4|  28.8681594530092|\n",
            "+--------------------+----+------------------+\n",
            "only showing top 20 rows\n",
            "\n"
          ]
        }
      ]
    },
    {
      "cell_type": "code",
      "source": [
        "y_pred = reg.evaluate(test_data)"
      ],
      "metadata": {
        "id": "4A01iI0c4JLP"
      },
      "execution_count": 27,
      "outputs": []
    },
    {
      "cell_type": "code",
      "source": [
        "y_pred.predictions.show()"
      ],
      "metadata": {
        "colab": {
          "base_uri": "https://localhost:8080/"
        },
        "id": "-falmEOl4Oe5",
        "outputId": "ea977c77-165c-4f7a-c81a-ed4008a7e3b2"
      },
      "execution_count": 28,
      "outputs": [
        {
          "output_type": "stream",
          "name": "stdout",
          "text": [
            "+--------------------+----+------------------+\n",
            "|            Features|MEDV|        prediction|\n",
            "+--------------------+----+------------------+\n",
            "|[0.01311,90.0,1.2...|35.4|30.469900361721304|\n",
            "|[0.02009,95.0,2.6...|50.0| 42.92028265896906|\n",
            "|[0.02176999999999...|42.3|36.834151393644554|\n",
            "|[0.02187,60.0,2.9...|31.1|31.854225620268096|\n",
            "|[0.02763,75.0,2.9...|30.8| 31.00994197903757|\n",
            "|[0.02985,0.0,2.18...|28.7|25.181963022688628|\n",
            "|[0.04113,25.0,4.8...|28.0|28.175506603542487|\n",
            "|[0.0456,0.0,13.89...|23.3|25.370267321966168|\n",
            "|[0.05646,0.0,12.8...|21.2|21.350140608801382|\n",
            "|[0.0566,0.0,3.41,...|23.6| 30.97798597634793|\n",
            "|[0.0578,0.0,2.46,...|37.2| 32.95657813794401|\n",
            "|[0.07013,0.0,13.8...|28.7|28.516109301723148|\n",
            "|[0.07022,0.0,4.05...|23.2|25.727566438830863|\n",
            "|[0.08014,0.0,5.96...|21.0| 23.00493910530949|\n",
            "|[0.08221,22.0,5.8...|29.6|24.203022946270437|\n",
            "|[0.08387,0.0,12.8...|20.3| 22.49088147552491|\n",
            "|[0.09252,30.0,4.9...|23.3| 28.36510211319819|\n",
            "|[0.10153,0.0,12.8...|20.0|23.287286305737528|\n",
            "|[0.11747,12.5,7.8...|18.9|21.781520089739423|\n",
            "|[0.12204,0.0,2.89...|28.4|  28.8681594530092|\n",
            "+--------------------+----+------------------+\n",
            "only showing top 20 rows\n",
            "\n"
          ]
        }
      ]
    },
    {
      "cell_type": "code",
      "source": [
        "y_pred.meanAbsoluteError"
      ],
      "metadata": {
        "colab": {
          "base_uri": "https://localhost:8080/"
        },
        "id": "Q3gpx1v54R_D",
        "outputId": "8e229039-ded5-49f0-966e-1ada37279cdd"
      },
      "execution_count": 29,
      "outputs": [
        {
          "output_type": "execute_result",
          "data": {
            "text/plain": [
              "3.1439378923322128"
            ]
          },
          "metadata": {},
          "execution_count": 29
        }
      ]
    },
    {
      "cell_type": "code",
      "source": [
        "y_pred.rootMeanSquaredError"
      ],
      "metadata": {
        "colab": {
          "base_uri": "https://localhost:8080/"
        },
        "id": "8ABUmkH24ZGf",
        "outputId": "22054cfb-2592-40f1-93f0-4fa52b47b5fb"
      },
      "execution_count": 30,
      "outputs": [
        {
          "output_type": "execute_result",
          "data": {
            "text/plain": [
              "4.8782415935863686"
            ]
          },
          "metadata": {},
          "execution_count": 30
        }
      ]
    },
    {
      "cell_type": "code",
      "source": [
        "y_pred.meanSquaredError"
      ],
      "metadata": {
        "colab": {
          "base_uri": "https://localhost:8080/"
        },
        "id": "t4xWH7vc4cqi",
        "outputId": "3ac85fba-0b71-4671-e3ea-3477ab458cac"
      },
      "execution_count": 31,
      "outputs": [
        {
          "output_type": "execute_result",
          "data": {
            "text/plain": [
              "23.797241045396074"
            ]
          },
          "metadata": {},
          "execution_count": 31
        }
      ]
    },
    {
      "cell_type": "code",
      "source": [
        "y_pred.r2"
      ],
      "metadata": {
        "colab": {
          "base_uri": "https://localhost:8080/"
        },
        "id": "cubat_Fx4fHw",
        "outputId": "02648389-9884-4a03-9958-5a48b26aafa6"
      },
      "execution_count": 32,
      "outputs": [
        {
          "output_type": "execute_result",
          "data": {
            "text/plain": [
              "0.7160148929313794"
            ]
          },
          "metadata": {},
          "execution_count": 32
        }
      ]
    },
    {
      "cell_type": "code",
      "source": [
        "y_pred.r2adj"
      ],
      "metadata": {
        "colab": {
          "base_uri": "https://localhost:8080/"
        },
        "id": "Z2_Qh7YJ4hqc",
        "outputId": "e00f9754-aa34-44b4-c15d-c67387e8b37a"
      },
      "execution_count": 33,
      "outputs": [
        {
          "output_type": "execute_result",
          "data": {
            "text/plain": [
              "0.6698673130327286"
            ]
          },
          "metadata": {},
          "execution_count": 33
        }
      ]
    },
    {
      "cell_type": "code",
      "source": [
        "spark.stop()"
      ],
      "metadata": {
        "id": "gm-mYb-V4j_c"
      },
      "execution_count": 34,
      "outputs": []
    },
    {
      "cell_type": "markdown",
      "source": [
        "# Classification"
      ],
      "metadata": {
        "id": "Tb5D-tpTC2He"
      }
    },
    {
      "cell_type": "code",
      "source": [
        "import pandas as pd\n",
        "import pyspark"
      ],
      "metadata": {
        "id": "c7M5CDbo47u9"
      },
      "execution_count": 35,
      "outputs": []
    },
    {
      "cell_type": "code",
      "source": [
        "from pyspark.sql import SparkSession\n",
        "spark = SparkSession.builder.master('local[*]').appName('New').getOrCreate()"
      ],
      "metadata": {
        "id": "obnFyhFuC-Ap"
      },
      "execution_count": 36,
      "outputs": []
    },
    {
      "cell_type": "code",
      "source": [
        "spark"
      ],
      "metadata": {
        "colab": {
          "base_uri": "https://localhost:8080/",
          "height": 216
        },
        "id": "vJnQlb7LDMLO",
        "outputId": "99724f72-0dcc-4fa8-fb8a-bbdf3fb7a365"
      },
      "execution_count": 37,
      "outputs": [
        {
          "output_type": "execute_result",
          "data": {
            "text/plain": [
              "<pyspark.sql.session.SparkSession at 0x7fe521c76460>"
            ],
            "text/html": [
              "\n",
              "            <div>\n",
              "                <p><b>SparkSession - in-memory</b></p>\n",
              "                \n",
              "        <div>\n",
              "            <p><b>SparkContext</b></p>\n",
              "\n",
              "            <p><a href=\"http://5438743f7c06:4040\">Spark UI</a></p>\n",
              "\n",
              "            <dl>\n",
              "              <dt>Version</dt>\n",
              "                <dd><code>v3.3.2</code></dd>\n",
              "              <dt>Master</dt>\n",
              "                <dd><code>local[*]</code></dd>\n",
              "              <dt>AppName</dt>\n",
              "                <dd><code>New</code></dd>\n",
              "            </dl>\n",
              "        </div>\n",
              "        \n",
              "            </div>\n",
              "        "
            ]
          },
          "metadata": {},
          "execution_count": 37
        }
      ]
    },
    {
      "cell_type": "code",
      "source": [
        "df = pd.read_csv('https://github.com/YBIFoundation/Dataset/raw/main/Diabetes.csv')"
      ],
      "metadata": {
        "id": "NCtyVe3eDNuK"
      },
      "execution_count": 38,
      "outputs": []
    },
    {
      "cell_type": "code",
      "source": [
        "diabetes = spark.createDataFrame(df)"
      ],
      "metadata": {
        "id": "-4en2CyBDW-2"
      },
      "execution_count": 39,
      "outputs": []
    },
    {
      "cell_type": "code",
      "source": [
        "diabetes.show()"
      ],
      "metadata": {
        "colab": {
          "base_uri": "https://localhost:8080/"
        },
        "id": "8THkZuTQDdlS",
        "outputId": "80c0f761-b17b-4d05-cd60-da9453b90f47"
      },
      "execution_count": 40,
      "outputs": [
        {
          "output_type": "stream",
          "name": "stdout",
          "text": [
            "+-----------+-------+---------+-------+-------+----+------------------+---+--------+\n",
            "|pregnancies|glucose|diastolic|triceps|insulin| bmi|               dpf|age|diabetes|\n",
            "+-----------+-------+---------+-------+-------+----+------------------+---+--------+\n",
            "|          6|    148|       72|     35|      0|33.6|             0.627| 50|       1|\n",
            "|          1|     85|       66|     29|      0|26.6|             0.351| 31|       0|\n",
            "|          8|    183|       64|      0|      0|23.3|             0.672| 32|       1|\n",
            "|          1|     89|       66|     23|     94|28.1|0.1669999999999999| 21|       0|\n",
            "|          0|    137|       40|     35|    168|43.1|2.2880000000000003| 33|       1|\n",
            "|          5|    116|       74|      0|      0|25.6|             0.201| 30|       0|\n",
            "|          3|     78|       50|     32|     88|31.0|             0.248| 26|       1|\n",
            "|         10|    115|        0|      0|      0|35.3|             0.134| 29|       0|\n",
            "|          2|    197|       70|     45|    543|30.5|             0.158| 53|       1|\n",
            "|          8|    125|       96|      0|      0| 0.0|0.2319999999999999| 54|       1|\n",
            "|          4|    110|       92|      0|      0|37.6|             0.191| 30|       0|\n",
            "|         10|    168|       74|      0|      0|38.0|             0.537| 34|       1|\n",
            "|         10|    139|       80|      0|      0|27.1|1.4409999999999998| 57|       0|\n",
            "|          1|    189|       60|     23|    846|30.1|0.3979999999999999| 59|       1|\n",
            "|          5|    166|       72|     19|    175|25.8|0.5870000000000001| 51|       1|\n",
            "|          7|    100|        0|      0|      0|30.0|             0.484| 32|       1|\n",
            "|          0|    118|       84|     47|    230|45.8|             0.551| 31|       1|\n",
            "|          7|    107|       74|      0|      0|29.6|             0.254| 31|       1|\n",
            "|          1|    103|       30|     38|     83|43.3|             0.183| 33|       0|\n",
            "|          1|    115|       70|     30|     96|34.6|             0.529| 32|       1|\n",
            "+-----------+-------+---------+-------+-------+----+------------------+---+--------+\n",
            "only showing top 20 rows\n",
            "\n"
          ]
        }
      ]
    },
    {
      "cell_type": "code",
      "source": [
        "from pyspark.ml.feature import VectorAssembler"
      ],
      "metadata": {
        "id": "PAUi3qmSDf81"
      },
      "execution_count": 41,
      "outputs": []
    },
    {
      "cell_type": "code",
      "source": [
        "diabetes.columns"
      ],
      "metadata": {
        "colab": {
          "base_uri": "https://localhost:8080/"
        },
        "id": "xZsnSFT_DzSq",
        "outputId": "6175c18f-80d0-433e-a471-5c95d47ca22a"
      },
      "execution_count": 42,
      "outputs": [
        {
          "output_type": "execute_result",
          "data": {
            "text/plain": [
              "['pregnancies',\n",
              " 'glucose',\n",
              " 'diastolic',\n",
              " 'triceps',\n",
              " 'insulin',\n",
              " 'bmi',\n",
              " 'dpf',\n",
              " 'age',\n",
              " 'diabetes']"
            ]
          },
          "metadata": {},
          "execution_count": 42
        }
      ]
    },
    {
      "cell_type": "code",
      "source": [
        "featureassembler = VectorAssembler(inputCols=['pregnancies',\n",
        " 'glucose',\n",
        " 'diastolic',\n",
        " 'triceps',\n",
        " 'insulin',\n",
        " 'bmi',\n",
        " 'dpf',\n",
        " 'age'], outputCol='IV')"
      ],
      "metadata": {
        "id": "leD5UCERDmtP"
      },
      "execution_count": 43,
      "outputs": []
    },
    {
      "cell_type": "code",
      "source": [
        "#output = featureassembeler.transform(diabetes)\n",
        "#output.show()"
      ],
      "metadata": {
        "id": "pO5N3EU-EUAK"
      },
      "execution_count": null,
      "outputs": []
    },
    {
      "cell_type": "code",
      "source": [
        "# modeldata = output.select('IV', 'diabetes')"
      ],
      "metadata": {
        "id": "s2It3FmhET7T"
      },
      "execution_count": null,
      "outputs": []
    },
    {
      "cell_type": "code",
      "source": [
        "modeldata = featureassembler.transform(diabetes).select('IV', 'diabetes')"
      ],
      "metadata": {
        "id": "98v4AUOGD_uf"
      },
      "execution_count": 45,
      "outputs": []
    },
    {
      "cell_type": "code",
      "source": [
        "modeldata.show()"
      ],
      "metadata": {
        "colab": {
          "base_uri": "https://localhost:8080/"
        },
        "id": "Wer2S1nwERZc",
        "outputId": "3134fa98-1e49-49bb-ae33-716b8e837875"
      },
      "execution_count": 46,
      "outputs": [
        {
          "output_type": "stream",
          "name": "stdout",
          "text": [
            "+--------------------+--------+\n",
            "|                  IV|diabetes|\n",
            "+--------------------+--------+\n",
            "|[6.0,148.0,72.0,3...|       1|\n",
            "|[1.0,85.0,66.0,29...|       0|\n",
            "|[8.0,183.0,64.0,0...|       1|\n",
            "|[1.0,89.0,66.0,23...|       0|\n",
            "|[0.0,137.0,40.0,3...|       1|\n",
            "|[5.0,116.0,74.0,0...|       0|\n",
            "|[3.0,78.0,50.0,32...|       1|\n",
            "|[10.0,115.0,0.0,0...|       0|\n",
            "|[2.0,197.0,70.0,4...|       1|\n",
            "|[8.0,125.0,96.0,0...|       1|\n",
            "|[4.0,110.0,92.0,0...|       0|\n",
            "|[10.0,168.0,74.0,...|       1|\n",
            "|[10.0,139.0,80.0,...|       0|\n",
            "|[1.0,189.0,60.0,2...|       1|\n",
            "|[5.0,166.0,72.0,1...|       1|\n",
            "|[7.0,100.0,0.0,0....|       1|\n",
            "|[0.0,118.0,84.0,4...|       1|\n",
            "|[7.0,107.0,74.0,0...|       1|\n",
            "|[1.0,103.0,30.0,3...|       0|\n",
            "|[1.0,115.0,70.0,3...|       1|\n",
            "+--------------------+--------+\n",
            "only showing top 20 rows\n",
            "\n"
          ]
        }
      ]
    },
    {
      "cell_type": "code",
      "source": [
        "train_data, test_data = modeldata.randomSplit([0.8,0.2])"
      ],
      "metadata": {
        "id": "Pslp-sQYE1NL"
      },
      "execution_count": 47,
      "outputs": []
    },
    {
      "cell_type": "code",
      "source": [
        "train_data.show()"
      ],
      "metadata": {
        "colab": {
          "base_uri": "https://localhost:8080/"
        },
        "id": "iikSZLqgE9za",
        "outputId": "3cab593e-3048-41f3-b325-c1c4c52ef0da"
      },
      "execution_count": 48,
      "outputs": [
        {
          "output_type": "stream",
          "name": "stdout",
          "text": [
            "+--------------------+--------+\n",
            "|                  IV|diabetes|\n",
            "+--------------------+--------+\n",
            "|(8,[0,1,6,7],[2.0...|       0|\n",
            "|(8,[0,1,6,7],[2.0...|       0|\n",
            "|(8,[0,1,6,7],[7.0...|       0|\n",
            "|(8,[1,5,6,7],[131...|       1|\n",
            "|(8,[1,5,6,7],[138...|       1|\n",
            "|(8,[1,5,6,7],[167...|       1|\n",
            "|[0.0,78.0,88.0,29...|       0|\n",
            "|[0.0,84.0,64.0,22...|       0|\n",
            "|[0.0,93.0,60.0,25...|       0|\n",
            "|[0.0,93.0,100.0,3...|       0|\n",
            "|[0.0,95.0,85.0,25...|       1|\n",
            "|[0.0,98.0,82.0,15...|       0|\n",
            "|[0.0,100.0,70.0,2...|       0|\n",
            "|[0.0,100.0,88.0,6...|       0|\n",
            "|[0.0,101.0,65.0,2...|       0|\n",
            "|[0.0,101.0,76.0,0...|       0|\n",
            "|[0.0,102.0,52.0,0...|       0|\n",
            "|[0.0,102.0,75.0,2...|       0|\n",
            "|[0.0,104.0,76.0,0...|       0|\n",
            "|[0.0,105.0,64.0,4...|       0|\n",
            "+--------------------+--------+\n",
            "only showing top 20 rows\n",
            "\n"
          ]
        }
      ]
    },
    {
      "cell_type": "code",
      "source": [
        "from pyspark.ml.classification import LogisticRegression"
      ],
      "metadata": {
        "id": "iU21M436FAW2"
      },
      "execution_count": 50,
      "outputs": []
    },
    {
      "cell_type": "code",
      "source": [
        "lr = LogisticRegression(featuresCol='IV', labelCol='diabetes')"
      ],
      "metadata": {
        "id": "jn5vfk7iFb7c"
      },
      "execution_count": 51,
      "outputs": []
    },
    {
      "cell_type": "code",
      "source": [
        "lr = lr.fit(train_data)"
      ],
      "metadata": {
        "id": "Xh27PWwJFrUV"
      },
      "execution_count": 53,
      "outputs": []
    },
    {
      "cell_type": "code",
      "source": [
        "lr.coefficients"
      ],
      "metadata": {
        "colab": {
          "base_uri": "https://localhost:8080/"
        },
        "id": "YgKaqDe7Fuui",
        "outputId": "9bcff52d-04f1-422b-c076-7503d34d80fa"
      },
      "execution_count": 54,
      "outputs": [
        {
          "output_type": "execute_result",
          "data": {
            "text/plain": [
              "DenseVector([0.1262, 0.0342, -0.0154, 0.0048, -0.0006, 0.0749, 1.0403, 0.0165])"
            ]
          },
          "metadata": {},
          "execution_count": 54
        }
      ]
    },
    {
      "cell_type": "code",
      "source": [
        "lr.intercept"
      ],
      "metadata": {
        "colab": {
          "base_uri": "https://localhost:8080/"
        },
        "id": "J3FT41TyF0Gb",
        "outputId": "98d6176e-8bbb-495d-8e94-dc68e00bdff9"
      },
      "execution_count": 55,
      "outputs": [
        {
          "output_type": "execute_result",
          "data": {
            "text/plain": [
              "-7.896858062023409"
            ]
          },
          "metadata": {},
          "execution_count": 55
        }
      ]
    },
    {
      "cell_type": "code",
      "source": [
        "y_pred = lr.transform(test_data)"
      ],
      "metadata": {
        "id": "Rm61JWoBF1hx"
      },
      "execution_count": 56,
      "outputs": []
    },
    {
      "cell_type": "code",
      "source": [
        "y_pred.show()"
      ],
      "metadata": {
        "colab": {
          "base_uri": "https://localhost:8080/"
        },
        "id": "BGOx5x_jF8PG",
        "outputId": "993e0546-a131-47f5-fdcc-c58492f13120"
      },
      "execution_count": 57,
      "outputs": [
        {
          "output_type": "stream",
          "name": "stdout",
          "text": [
            "+--------------------+--------+--------------------+--------------------+----------+\n",
            "|                  IV|diabetes|       rawPrediction|         probability|prediction|\n",
            "+--------------------+--------+--------------------+--------------------+----------+\n",
            "|(8,[1,5,6,7],[117...|       0|[-0.3299791199246...|[0.41824570361080...|       1.0|\n",
            "|[0.0,86.0,68.0,32...|       0|[2.51298748949373...|[0.92504729071394...|       0.0|\n",
            "|[0.0,101.0,64.0,1...|       0|[3.16978293434668...|[0.95968118644907...|       0.0|\n",
            "|[0.0,104.0,64.0,2...|       0|[2.36102988256342...|[0.91380695754787...|       0.0|\n",
            "|[0.0,106.0,70.0,3...|       0|[1.33014466175568...|[0.79086456253074...|       0.0|\n",
            "|[0.0,113.0,76.0,0...|       1|[2.04455665761291...|[0.88539644268641...|       0.0|\n",
            "|[0.0,118.0,64.0,2...|       0|[2.65136762666463...|[0.93409523342312...|       0.0|\n",
            "|[0.0,124.0,70.0,2...|       1|[1.73262489848362...|[0.84974786568679...|       0.0|\n",
            "|[0.0,128.0,68.0,1...|       1|[0.45273628638545...|[0.61128961325221...|       0.0|\n",
            "|[0.0,140.0,65.0,2...|       1|[0.04008794847273...|[0.51002064518630...|       0.0|\n",
            "|[0.0,146.0,70.0,0...|       1|[0.33878680090933...|[0.58389579230386...|       0.0|\n",
            "|[0.0,165.0,76.0,4...|       0|[-0.8959196339653...|[0.28988973505962...|       1.0|\n",
            "|[1.0,81.0,72.0,18...|       0|[3.37033599159312...|[0.96676448857015...|       0.0|\n",
            "|[1.0,85.0,66.0,29...|       0|[2.87643771300826...|[0.94666930197814...|       0.0|\n",
            "|[1.0,88.0,30.0,42...|       1|[0.02571627522549...|[0.50642871452017...|       0.0|\n",
            "|[1.0,89.0,76.0,34...|       0|[2.84739172434425...|[0.94518370099421...|       0.0|\n",
            "|[1.0,90.0,62.0,12...|       0|[2.58502844063451...|[0.92989179793273...|       0.0|\n",
            "|[1.0,107.0,72.0,3...|       0|[1.57756518355862...|[0.82885941214571...|       0.0|\n",
            "|[1.0,111.0,86.0,1...|       0|[2.43068415931896...|[0.91913739671771...|       0.0|\n",
            "|[1.0,118.0,58.0,3...|       0|[1.37675258380461...|[0.79846894454879...|       0.0|\n",
            "+--------------------+--------+--------------------+--------------------+----------+\n",
            "only showing top 20 rows\n",
            "\n"
          ]
        }
      ]
    },
    {
      "cell_type": "code",
      "source": [
        "from pyspark.ml.evaluation import MulticlassClassificationEvaluator"
      ],
      "metadata": {
        "id": "6_TWTKTtF-XV"
      },
      "execution_count": 58,
      "outputs": []
    },
    {
      "cell_type": "code",
      "source": [
        "evaluator = MulticlassClassificationEvaluator(labelCol='diabetes', predictionCol='prediction', metricName='weightedPrecision')"
      ],
      "metadata": {
        "id": "vmkLREgAGJ0f"
      },
      "execution_count": 63,
      "outputs": []
    },
    {
      "cell_type": "code",
      "source": [
        "evaluator.evaluate(y_pred)"
      ],
      "metadata": {
        "colab": {
          "base_uri": "https://localhost:8080/"
        },
        "id": "5ekGrKdkG_r1",
        "outputId": "7c4a1f37-e6a5-4d01-88ce-2182d4728bc5"
      },
      "execution_count": 64,
      "outputs": [
        {
          "output_type": "execute_result",
          "data": {
            "text/plain": [
              "0.7396918913467356"
            ]
          },
          "metadata": {},
          "execution_count": 64
        }
      ]
    },
    {
      "cell_type": "code",
      "source": [],
      "metadata": {
        "id": "k909r_oyGuwg"
      },
      "execution_count": null,
      "outputs": []
    }
  ]
}